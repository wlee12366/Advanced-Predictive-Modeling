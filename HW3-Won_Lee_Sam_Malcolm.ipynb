{
 "cells": [
  {
   "cell_type": "markdown",
   "metadata": {},
   "source": [
    "\n",
    "# <p style=\"text-align: center;\">MIS382: Advanced Predictive Modeling</p>\n",
    "# <p style=\"text-align: center;\">Assignment 3</p>\n",
    "## <p style=\"text-align: center;\">Won Lee (Wl6289), Sam Malcolm (STM2334) </p>\n",
    "## <p style=\"text-align: center;\">Total points: 75</p>\n",
    "## <p style=\"text-align: center;\">Due: Tuesday, October 23rd, submitted via Canvas by 11:59 pm</p>\n",
    "\n",
    "Your homework should be written in a **Jupyter notebook**. You may work in groups of two if you wish. Only one student per team needs to submit the assignment on Canvas.  **Please include the name and UTEID for both students on all submitted files (including this notebook).** In addition, please make sure that **your filename includes your EID** (ex. ss324.jpynb or ss324_mj345.jpypb).\n",
    "\n",
    "Also, please make sure your code runs and the graphics (and anything else) are displayed in your notebook before submitting. (%matplotlib inline)"
   ]
  },
  {
   "cell_type": "markdown",
   "metadata": {},
   "source": [
    "# Question 1a - Stochastic Gradient Descent (25pts)"
   ]
  },
  {
   "cell_type": "markdown",
   "metadata": {},
   "source": [
    "#### 1. (5pts) Using stochastic gradient descent, derive the coefficent updates for all 4 coefficients of the model: $$ y = w_0 + w_1x_1 + w_2x_1^2 + w_3x_1x_2 $$ Hint: start from the cost function (Assume sum of squared error). If you write the math by hand, include the image in your notebook.\n",
    "\n",
    "\n",
    "\n",
    "\n",
    "\n",
    "\n"
   ]
  },
  {
   "cell_type": "markdown",
   "metadata": {},
   "source": [
    "<img src = \"https://imgur.com/bNQQcdx.png\">"
   ]
  },
  {
   "cell_type": "markdown",
   "metadata": {},
   "source": [
    "#### 2. (15pts) Write Python code for an SGD solution to the non-linear model $$ y = w_0 + w_1x_1 + w_2x_1^2 + w_3x_1x_2$$ \n",
    "\n",
    "Try to format similarly to scikit-learn's models. Your class should take as input the learning_rate, regularization_constant and number of epochs. \n",
    "\n",
    "The fit method must take as input X,y and a choice of update_rule as 'sgd' or 'sgd_momentum' or 'rmsprop'(Notes on implementation below). \n",
    "\n",
    "The _predict_ method takes an X value (optionally, an array of values). \n",
    "\n",
    "Use your new gradient descent regression to predict the data given in 'samples.csv', for 15 epochs, using learning rates: [.0001, .001, .01, 0.1, 1, 10, 100] and regularization constants in the range: [0,10,100] . \n",
    "\n",
    "Plot MSE and the $w$ parameters as a function of epoch (for 15 epochs) for the best 2 combinations of learning_rate and regularization for SGD, SGD-Momentum and RMSProp. I.e., you should have one plot of MSE and another for the parameter updates for SGD, SGD-Momentum and RMSProp (6 plots total)."
   ]
  },
  {
   "cell_type": "code",
   "execution_count": 8,
   "metadata": {},
   "outputs": [
    {
     "name": "stdout",
     "output_type": "stream",
     "text": [
      "SGD LR = 0.0001, REG = 0, MSE = 99999\n"
     ]
    }
   ],
   "source": [
    "# https://gluon.mxnet.io/chapter06_optimization/gd-sgd-scratch.html\n",
    "# https://machinelearningmastery.com/implement-linear-regression-stochastic-gradient-descent-scratch-python/\n",
    "# https://towardsdatascience.com/linear-regression-using-gradient-descent-in-10-lines-of-code-642f995339c0\n",
    "# https://github.com/rasbt/python-machine-learning-book/blob/master/code/ch12/neuralnet.py\n",
    "\n",
    "import pandas as pd\n",
    "import numpy as np\n",
    "from sklearn.model_selection import (train_test_split,KFold)\n",
    "from sklearn.metrics import mean_squared_error\n",
    "from sklearn.neural_network import MLPRegressor\n",
    "from sklearn.preprocessing import StandardScaler\n",
    "from matplotlib.pyplot import *\n",
    "import glob\n",
    "\n",
    "data1 = pd.read_csv('samples.csv', index_col = 0)\n",
    "X = data1.drop(columns='y').values\n",
    "y = data1['y']\n",
    "\n",
    "class sgd:\n",
    "    def __init__(self, learning_rate, regularization_constant, epochs, params_init = None):\n",
    "        self.learning_rate = learning_rate\n",
    "        self.regularization_constant = regularization_constant\n",
    "        self.epochs = epochs\n",
    "        if params_init is not None:\n",
    "            self.params = np.array(params_init)\n",
    "        else:\n",
    "            self.params = np.zeros(4)\n",
    "\n",
    "    def fit(self, x, y, update_rule = 'SGD'):\n",
    "        def evaluate_gradient(data, params, reg):\n",
    "            y, x1, x2 = data\n",
    "            w0, w1, w2, w3 = params\n",
    "            g0 = -2*(y - (w0 + w1*x1 + w2*x1*x1 + w3*x1*x2)) + reg * w0\n",
    "            g1 = -2*x1*(y - (w0 + w1*x1 + w2*x1*x1 + w3*x1*x2)) + reg * w1\n",
    "            g2 = -2*x1*x1*(y - (w0 + w1*x1 + w2*x1*x1 + w3*x1*x2)) + reg * w2\n",
    "            g3 = -2*x1*x2*(y - (w0 + w1*x1 + w2*x1*x1 + w3*x1*x2)) + reg * w3\n",
    "            return np.array([g0,g1,g2,g3])        \n",
    "        self.w = []\n",
    "        self.w0 = []\n",
    "        self.w1 = []\n",
    "        self.w2 = []\n",
    "        self.w3 = []\n",
    "        self.mse = []\n",
    "        n = x.shape[0]\n",
    "        x1 = x[:,0]\n",
    "        x2 = x[:,1]\n",
    "        data = np.column_stack((y,x))\n",
    "        cache = np.zeros(4)\n",
    "        for i in range(self.epochs):   \n",
    "            for d in data:\n",
    "                params_grad = evaluate_gradient(d, self.params, self.regularization_constant)\n",
    "                if update_rule == 'RMSprop':\n",
    "                    cache = 0.9*cache + 0.1*params_grad**2\n",
    "                    self.params = self.params - self.learning_rate/np.sqrt(cache + 1e-6) * params_grad\n",
    "                if update_rule == 'Momentum':\n",
    "                    cache = 0.9*cache - (self.learning_rate)*params_grad\n",
    "                    self.params = self.params + cache\n",
    "                else:\n",
    "                    self.params = self.params - self.learning_rate * params_grad\n",
    "            predict = self.params[0] * np.ones(n) + self.params[1]*x1 + self.params[2]*x1*x1 + self.params[3]*x1*x2\n",
    "            self.w.append(self.params)\n",
    "            self.w0.append(self.params[0])\n",
    "            self.w1.append(self.params[1])\n",
    "            self.w2.append(self.params[2])\n",
    "            self.w3.append(self.params[3])\n",
    "            self.mse.append(mean_squared_error(y,predict))\n",
    "        \n",
    "    \n",
    "    def predict(self, x):\n",
    "        x1 = x[:,0]\n",
    "        x2 = x[:,1]\n",
    "        n = x.shape[0]\n",
    "        predict = self.params[0] * np.ones(n) + self.params[1]*x1 + self.params[2]*x1*x2 + self.params[3]*x2\n",
    "        return predict\n",
    "\n",
    "MSE_sgd = []\n",
    "MSE_grads = []\n",
    "lr_set = [.0001, .001, .01, 0.1, 1, 10, 100]\n",
    "reg_set = [0,10,100]\n",
    "for i in lr_set:\n",
    "    for value in reg_set:\n",
    "        try:\n",
    "            gd = sgd(i,value,10)\n",
    "            gd.fit(x,y,update_rule = 'SGD')\n",
    "            MSE_sgd.append((i,value,gd.mse[-1]))\n",
    "        except:MSE_sgd.append((i,value,99999))\n",
    "        try:\n",
    "            gd = sgd(i,value,10)\n",
    "            gd.fit(x,y,update_rule = 'adagrad')\n",
    "            MSE_grads.append((i,value,gd.mse[-1]))\n",
    "        except:MSE_grads.append((i,value,99999))\n",
    "                       \n",
    "MSE_sgd.sort(key = lambda x: x[2])\n",
    "MSE_grads.sort(key = lambda x: x[2])\n",
    "options = [[0.001,0,'sgd'],[0.0001,0,'momentum'],[0.001,0,'rmsprop']]\n",
    "def run_sgd(lr,rc,rule):\n",
    "    sgd = sgd_apm(lr, rc, 15)\n",
    "    sgd.fit(X,y,rule)\n",
    "    return sgd.mse\n",
    "for i in options:\n",
    "    mse = run_sgd(i[0],i[1],i[2])\n",
    "    \n",
    "best_sgd = [(MSE_sgd[0][0],MSE_sgd[0][1]),(MSE_sgd[1][0],MSE_sgd[1][1]),(MSE_sgd[2][0],MSE_sgd[2][1])]\n",
    "best_grad = [(MSE_grads[0][0],MSE_grads[0][1]),(MSE_grads[1][0],MSE_grads[1][1]),(MSE_grads[2][0],MSE_grads[2][1])]\n",
    "print ('SGD LR = {}, REG = {}, MSE = {}'.format(MSE_sgd[0][0],MSE_sgd[0][1],MSE_sgd[0][2]))"
   ]
  },
  {
   "cell_type": "code",
   "execution_count": 30,
   "metadata": {
    "scrolled": true
   },
   "outputs": [
    {
     "data": {
      "image/png": "[encoded data removed]",
      "text/plain": [
       "<Figure size 1296x1296 with 6 Axes>"
      ]
     },
     "metadata": {
      "needs_background": "light"
     },
     "output_type": "display_data"
    }
   ],
   "source": [
    "fig, ((ax1,ax2),(ax3,ax4),(ax5,ax6)) = subplots(3,2,figsize = (18,18))\n",
    "ax = [ax1,ax2,ax3,ax4,ax5,ax6]\n",
    "epoch = range(1,16)\n",
    "for (i,(lr,reg)) in enumerate(best_sgd):\n",
    "    gd = sgd_apm(lr,reg,15)\n",
    "    gd.fit(x,y,update_rule = 'SGD')\n",
    "    mse = gd.mse\n",
    "    ax[2*i].plot(epoch,mse,label='MSE')\n",
    "    ax[2*i].set_title('SGD ({}) MSE'.format(i+1))\n",
    "    ax[2*i].set_xlabel('epoch')\n",
    "    ax[2*i].set_ylabel('MSE')\n",
    "    ax[2*i+1].plot(range(len(gd.w0)-1),gd.w0[:-1],label='w0')\n",
    "    ax[2*i+1].plot(range(len(gd.w1)-1),gd.w1[:-1],label='w1')\n",
    "    ax[2*i+1].plot(range(len(gd.w2)-1),gd.w2[:-1],label='w2')\n",
    "    ax[2*i+1].plot(range(len(gd.w3)-1),gd.w3[:-1],label='w3')\n",
    "    ax[2*i+1].set_title('SGD ({}) Parameters'.format(i+1))\n",
    "    ax[2*i+1].set_xlabel('epoch')\n",
    "    ax[2*i+1].set_ylabel('parameters')\n",
    "    ax[2*i+1].legend()"
   ]
  },
  {
   "cell_type": "markdown",
   "metadata": {},
   "source": [
    "#### 3. (2pts) Report the MSE at the end of 15 epochs for both combinations."
   ]
  },
  {
   "cell_type": "code",
   "execution_count": 9,
   "metadata": {},
   "outputs": [
    {
     "name": "stdout",
     "output_type": "stream",
     "text": [
      "SGD:   0.002692724650811375\n",
      "Momentum:   0.3375618808619165\n",
      "RMSprop:   0.002692724650811375\n"
     ]
    }
   ],
   "source": [
    "options = [[0.001,0,'SGD:'],[0.0001,0,'Momentum:'],[0.001,0,'RMSprop:']]\n",
    "def sgd(lr, rc, rule):\n",
    "    sgd = sgd_apm(lr, rc, 15)\n",
    "    sgd.fit(X,y,rule)\n",
    "    return sgd.mse\n",
    "\n",
    "j=0\n",
    "\n",
    "for i in options:\n",
    "    mse = run_sgd(i[0],i[1],i[2])\n",
    "    print (str(options[j][2]), ' ',mse[14])\n",
    "    j+=1"
   ]
  },
  {
   "cell_type": "markdown",
   "metadata": {},
   "source": [
    "#### 4. (3pts) Based on the experiments, which of the 3 techniques allowed for larger initial setting of the learning_rate? Why?"
   ]
  },
  {
   "cell_type": "markdown",
   "metadata": {},
   "source": [
    "https://towardsdatascience.com/understanding-rmsprop-faster-neural-network-learning-62e116fcf29a\n",
    "\n",
    "The learning rate of RMSprop allows for a larger initial learning rate. We adjust according to the sum of the gradient and we adapt the learning rate by dividing it by the sum. This allows this particular technique to have a larger initial learning rate without overshooting its target."
   ]
  },
  {
   "cell_type": "markdown",
   "metadata": {},
   "source": [
    "# Notes on SGD with momentum\n",
    "Momentum helps accelerate SGD in relevant direction and dampens the oscillations. It tries to maintain the direction in which the gradient vector was already pointing and adjusts the direction slowly with the new gradients. The steps can be listed below :\n",
    "1. v[t] = mu * v[t-1] - (learning_rate)*(gradient)\n",
    "2. w = w + v\n",
    "\n",
    "Set mu = 0.90. Initialize v with zeros.\n"
   ]
  },
  {
   "cell_type": "markdown",
   "metadata": {},
   "source": [
    "# Notes on RMSProp\n",
    "RMSProp (http://ruder.io/optimizing-gradient-descent/) differs from vanilla SGD in that the learning rate of each weight changes over updates. The RMSProp update adjusts the Adagrad method in a very simple way in an attempt to reduce its aggressive, monotonically decreasing learning rate.  In particular, it uses a moving average of squared gradients as cache. The learning_rate is divided by the cache, resulting in a different learning rate for each weight. A consequence of this update rule is that weights that have already seen large gradients (made large jumps) make smaller updates in subsequent iterations.\n",
    "Specifically, the steps can be listed as below:\n",
    "1. cache = (decay_rate)*(cache) + (1 - decay_rate)*(gradients^2) \n",
    "2. weights = weights - ((learning_rate)/sqrt(cache+1e-6))*gradients\n",
    "\n",
    "Use decay_rate = 0.90. Initialize cache with zeros."
   ]
  },
  {
   "cell_type": "markdown",
   "metadata": {},
   "source": [
    "# (Optional) Notes on Training with Gradient Descent\n",
    "1. Compute error: This consists of a prediction error and a regularization term. From an implementation perspective, this is a function that takes as input the truth, prediction and regularization hyperparameter and returns an error\n",
    "2. Compute gradients: Take a derivative of the error in terms of the weights. This can be modelled as a function that takes as input the error and features and returns the gradients for each weight\n",
    "3. Update weights: Weight updates can be done using vanilla SGD or adaptive techniques. The update function takes as inputs the gradient and hyperparameters and returns the new weights."
   ]
  },
  {
   "cell_type": "markdown",
   "metadata": {},
   "source": [
    "# Question 2 - Multi-layer perceptron Regressor (15 pts)"
   ]
  },
  {
   "cell_type": "markdown",
   "metadata": {},
   "source": [
    "In this question, you will explore the application of Multi-layer Perceptron (MLP) regression using sklearn package in Python;\n",
    "http://scikit-learn.org/stable/modules/generated/sklearn.neural_network.MLPRegressor.html.\n",
    "\n",
    "\n",
    "We will use the OpenCL gemm kernel performance prediction dataset for this problem; https://archive.ics.uci.edu/ml/datasets/SGEMM+GPU+kernel+performance.\n",
    "\n",
    "Following code will pre-process the data and split the data into training and test set using [train_test_split](http://scikit-learn.org/stable/modules/generated/sklearn.model_selection.train_test_split.html) with **random state 30** and **test_size = 0.25**."
   ]
  },
  {
   "cell_type": "code",
   "execution_count": 1,
   "metadata": {
    "scrolled": true
   },
   "outputs": [
    {
     "name": "stdout",
     "output_type": "stream",
     "text": [
      "((181200, 14), (181200,), (60400, 14), (60400,))\n"
     ]
    }
   ],
   "source": [
    "import pandas as pd\n",
    "import numpy as np\n",
    "from sklearn.model_selection import (train_test_split,KFold, cross_val_score)\n",
    "from sklearn.metrics import mean_squared_error\n",
    "from sklearn.neural_network import MLPRegressor\n",
    "from sklearn.preprocessing import StandardScaler\n",
    "import matplotlib.pyplot as plt\n",
    "import glob\n",
    "%matplotlib inline\n",
    "import warnings\n",
    "warnings.filterwarnings('ignore')\n",
    "\n",
    "data = pd.read_csv('sgemm_product.csv') \n",
    "data['target'] = 0.25*(data['Run1 (ms)'] + data['Run2 (ms)']+ data['Run3 (ms)'] + data['Run4 (ms)'])\n",
    "y = data['target']\n",
    "y = y.as_matrix()\n",
    "X = data.drop(['target','Run1 (ms)', 'Run2 (ms)', 'Run3 (ms)', 'Run4 (ms)'], axis = 1)\n",
    "X_train, X_test, y_train, y_test = train_test_split(X,y,test_size = 0.25, random_state=30)\n",
    "\n",
    "print(X_train.shape, y_train.shape, X_test.shape, y_test.shape)"
   ]
  },
  {
   "cell_type": "markdown",
   "metadata": {},
   "source": [
    "One more thing to use in this problem is [StandardScaler](http://scikit-learn.org/stable/modules/generated/sklearn.preprocessing.StandardScaler.html). Instead of fitting a model on original data, use StandardScaler to make each feature centered ([Example](http://scikit-learn.org/stable/auto_examples/applications/plot_prediction_latency.html#sphx-glr-auto-examples-applications-plot-prediction-latency-py)). Whenever you have training and test data, fit a scaler on training data and use this scaler on test data. Here, scale only features (independent variables), not target variable y. "
   ]
  },
  {
   "cell_type": "markdown",
   "metadata": {},
   "source": [
    "## Answer"
   ]
  },
  {
   "cell_type": "markdown",
   "metadata": {},
   "source": [
    "#### 1) (5pts) Use [sklearn.neural_nework.MLPRegressor](http://scikit-learn.org/stable/modules/generated/sklearn.neural_network.MLPRegressor.html#sklearn.neural_network.MLPRegressor) to do a 5-fold cross validation using sklearn's [KFold](http://scikit-learn.org/stable/modules/generated/sklearn.model_selection.KFold.html#sklearn.model_selection.KFold). The cross validation must be performed on the **training data**. Use following parameter settings for MLPRegressor:\n",
    "\n",
    "    activation = 'tanh', solver = 'sgd', learning_rate='constant', random_state=42,\n",
    "    batch_size=30, learning_rate_init = 0.005\n",
    "    \n",
    "Now, consider the following settings for the number of hidden units:\n",
    "    \n",
    "   (a) *hidden_layer_sizes = (2,)* \n",
    "   \n",
    "   (b) *hidden_layer_sizes = (10,)*\n",
    "   \n",
    "   (c) *hidden_layer_sizes = (30,)*\n",
    "   \n",
    "   (d) *hidden_layer_sizes = (50,)*\n",
    "   \n",
    "   Report the average Root Mean Squared Error (RMSE) value based on your 5-fold cross validation for each model."
   ]
  },
  {
   "cell_type": "code",
   "execution_count": 2,
   "metadata": {},
   "outputs": [],
   "source": [
    "X_scaler = StandardScaler()\n",
    "X_train = X_scaler.fit_transform(X_train)\n",
    "X_test = X_scaler.transform(X_test)"
   ]
  },
  {
   "cell_type": "code",
   "execution_count": 3,
   "metadata": {},
   "outputs": [
    {
     "name": "stdout",
     "output_type": "stream",
     "text": [
      "hidden layer size = (2,), RMSE = 270.23632573838324\n",
      "hidden layer size = (10,), RMSE = 207.64162486331534\n",
      "hidden layer size = (30,), RMSE = 179.4723696435122\n",
      "hidden layer size = (50,), RMSE = 170.05567937463937\n"
     ]
    }
   ],
   "source": [
    "hidden = [(2,),(10,),(30,),(50,)]\n",
    "kfcv = KFold(n_splits = 5)\n",
    "\n",
    "for size in hidden:\n",
    "    mlpr = MLPRegressor(activation = 'tanh', solver = 'sgd', learning_rate='constant', random_state=42, batch_size=30, learning_rate_init = 0.005, hidden_layer_sizes = size)\n",
    "    scores = cross_val_score(mlpr, X_train, y_train, cv=kfcv, scoring = 'neg_mean_squared_error')    \n",
    "    mean_rmse = np.sqrt(-scores).mean()\n",
    "    print \"hidden layer size = \" + str(size) + \", RMSE = \" + str(mean_rmse)"
   ]
  },
  {
   "cell_type": "markdown",
   "metadata": {},
   "source": [
    "#### 2) (5pts) Now, using the same parameters used in part 1), train MLPRegressor models on the entire training set and report the RMSE score for both the trainnig and testing sets (again, use StandardScaler). Which of the four models ((a)-(d)) performs the best? Briefly analyze and discuss the results, commenting on the number of hidden units."
   ]
  },
  {
   "cell_type": "code",
   "execution_count": 4,
   "metadata": {},
   "outputs": [
    {
     "name": "stdout",
     "output_type": "stream",
     "text": [
      "hidden layer size = (2,), Train RMSE = 266.35421927262047, Test RMSE = 261.7462665043765\n",
      "hidden layer size = (10,), Train RMSE = 227.05583943895655, Test RMSE = 222.30985245232222\n",
      "hidden layer size = (30,), Train RMSE = 209.49171628660778, Test RMSE = 208.10328043618927\n",
      "hidden layer size = (50,), Train RMSE = 182.96749234517418, Test RMSE = 180.56934480329457\n"
     ]
    }
   ],
   "source": [
    "for size in hidden:\n",
    "    mlpr = MLPRegressor(activation = 'tanh', solver = 'sgd', learning_rate='constant', random_state=42, batch_size=30, learning_rate_init = 0.005, hidden_layer_sizes = size)\n",
    "    mlpr.fit(X_train, y_train)\n",
    "    y_fit = mlpr.predict(X_train)\n",
    "    y_pred = mlpr.predict(X_test)\n",
    "    train_rmse = np.sqrt(mean_squared_error(y_train, y_fit))\n",
    "    test_rmse = np.sqrt(mean_squared_error(y_test, y_pred))\n",
    "    print \"hidden layer size = \" + str(size) + \", Train RMSE = \" + str(train_rmse) + \", Test RMSE = \" + str(test_rmse)"
   ]
  },
  {
   "cell_type": "markdown",
   "metadata": {},
   "source": [
    "Model (d) performed the best with a Test RMSE of 180.569. This is considerably better than any other option. Model (d) had the most hidden units with 50. We observe the model improves as hidden units increase."
   ]
  },
  {
   "cell_type": "markdown",
   "metadata": {},
   "source": [
    "#### 3) (5pts) MLPRegressor has a built-in attribute *loss\\_curve\\_* which returns the loss at each epoch (misleadingly referred to as \"iteration\" in scikit documentation, though they use epoch in the actual code!). For example, if your model is named as *my_model* you can call it as *my\\_model.loss\\_curve\\_* ([example](http://scikit-learn.org/stable/auto_examples/neural_networks/plot_mlp_training_curves.html#sphx-glr-auto-examples-neural-networks-plot-mlp-training-curves-py)). Plot three curves using below conditions (a, b, c) in one figure, where *X-axis* is epoch  number and *Y-axis* is squared root of *loss\\_curve\\_* valu;:\n",
    "\n",
    "   (a) *hidden_layer_sizes = (1,)* \n",
    "   \n",
    "   (b) *hidden_layer_sizes = (5,)*\n",
    "   \n",
    "   (c) *hidden_layer_sizes = (10,)*"
   ]
  },
  {
   "cell_type": "code",
   "execution_count": 7,
   "metadata": {},
   "outputs": [
    {
     "data": {
      "text/plain": [
       "Text(0,0.5,'loss_curve_ value')"
      ]
     },
     "execution_count": 7,
     "metadata": {},
     "output_type": "execute_result"
    },
    {
     "data": {
      "image/png": "[encoded data removed]",
      "text/plain": [
       "<Figure size 432x288 with 1 Axes>"
      ]
     },
     "metadata": {},
     "output_type": "display_data"
    }
   ],
   "source": [
    "hidden_v2 = [(1,), (5,), (10,)]\n",
    "\n",
    "mlpr_fits = []\n",
    "\n",
    "for size in hidden_v2:\n",
    "    mlpr = MLPRegressor(activation = 'tanh', solver = 'sgd', learning_rate='constant', random_state=42, batch_size=30, learning_rate_init = 0.005, hidden_layer_sizes = size)\n",
    "    mlpr.fit(X_train, y_train)\n",
    "    mlpr_fits.append(mlpr)\n",
    "    \n",
    "for mlpr, size in zip(mlpr_fits, hidden_v2):\n",
    "    plt.plot(np.sqrt(mlpr.loss_curve_), label = size)\n",
    "plt.legend()\n",
    "plt.xlabel('epoch number')\n",
    "plt.ylabel('loss')"
   ]
  },
  {
   "cell_type": "markdown",
   "metadata": {},
   "source": [
    "# Question 3 - [Kaggle Competition] Mercedes-Benz Greener Manufacturing (25 pts)"
   ]
  },
  {
   "cell_type": "markdown",
   "metadata": {},
   "source": [
    "In this problem, we are going to explore a Kaggle competition: [Mercedes-Benz Greener Manufacturing](https://www.kaggle.com/c/mercedes-benz-greener-manufacturing). Your goal is to obtain the best score you can in this competition.\n",
    "\n",
    "The first step is to make a Kaggle account. Then find this competition and read the competition details and the description of the dataset. \n",
    "\n",
    "I have converted the categorical variables to numbers. The dataset is available as **'q3_train.csv'** and **'q3_test.csv'** along with the assignment. Please use this dataset for building your models. Upload your predicted values to kaggle to get the score.\n",
    "\n",
    "Your work should meet the following requirements:\n",
    "\n",
    "1. Data Preprocessing. \n",
    " * Conduct some data preprocessing. (Hint: see if there is any outlier and remove them).\n",
    " * Impute the missing values (if any).\n",
    " \n",
    "2. Predictive Models. \n",
    " * You have to create three models: Lasso regression, Ridge regression and multilayer perceptron. For Lasso and Ridge regression, optimize the alphas using cross validation. Multilayer perceptron can have one hidden layer. You may try other predictive models to get better scores (optional). \n",
    "3. Get a score of 0.51 or higher on the **Private Leaderboard**. Take a screenshot of your private score after submission as proof. You can click My Submissions tab to see the history of your submissions. It will show both Public Leaderboard & Private Leaderboard score. Your highes score should be visible in the screenshot.\n",
    "\n",
    "Briefly describe your work on each of these steps. Explain (very briefly) what approaches you tried, what worked and what did not work. Mention your team's kaggle name and include a screen shot of your public submission score. Finally, try your best to win this competition!"
   ]
  },
  {
   "cell_type": "markdown",
   "metadata": {},
   "source": [
    "## Answer"
   ]
  },
  {
   "cell_type": "raw",
   "metadata": {},
   "source": [
    "1.\n",
    "\n",
    "For data preprocessing, we first took a look at the general shape of the data through a histogram where we saw the distribution of the data was skewed to the right. We then looked at the descriptive statistics where we realized the max was over ten times the standard deviation, further confirming our suspicions.\n",
    "\n",
    "We first checked for any empty cells, dropping them if there were any, before we went ahead to drop any data points that were above three or seven deviations, also known as uniivatriate outliers, depending on whether or not we wanted to focus on ridge and lasso regression or multi-layer perceptrons.\n",
    "\n",
    "We then checked for multivariate outliers as well, dropping them outright, through SVM after briefly scaling the explanatory variables. Afterwards, we imputed any missing values with K-nearest neighbors.\n",
    "\n",
    "2. \n",
    "\n",
    "For the predictive models, we did cross-validation with ridge and lasso regression with two different methods. Depending on the number of samples, they were similar or different in their alpha values.  \n",
    "\n",
    "Lasso Alpha: 0.01675801325469417\n",
    "Ridge Alpha: 1.457526531412585\n",
    "\n",
    "We then did MLP. We first tried it with one hidden layer, but it was fairly poor in accuracy. We noticed a hidden layer size of 10 was most optimal and doing \"adam\" instead of \"sgd produced a better score on Kaggle. Overall, since the sample size was relatively small and with so many columns, it was best to avoid dropping too many rows and we noticed that using imputation was crucial for our prediction model.\n",
    "\n",
    "Private Scores for Lasso, Ridge, and MLP as shown below was .526, .531, .512 respectively.\n",
    "Public Scores for Lasso, Ridge, and MLP as shown below was .524, .525, .501 respectively."
   ]
  },
  {
   "cell_type": "markdown",
   "metadata": {},
   "source": [
    "<img src = \"https://i.imgur.com/7xvmo4k.png\">\n",
    "<img src = \"https://i.imgur.com/QXbzERY.png\">"
   ]
  },
  {
   "cell_type": "code",
   "execution_count": 14,
   "metadata": {
    "scrolled": false
   },
   "outputs": [
    {
     "name": "stdout",
     "output_type": "stream",
     "text": [
      "   ID  X0  X1  X2  X3  X4  X5  X6  X8  X10  ...   X375  X376  X377  X378  \\\n",
      "0   1  21  23  34   5   3  26   0  22    0  ...      0     0     0     1   \n",
      "1   2  42   3   8   0   3   9   6  24    0  ...      0     0     1     0   \n",
      "2   3  21  23  17   5   3   0   9   9    0  ...      0     0     0     1   \n",
      "3   4  21  13  34   5   3  31  11  13    0  ...      0     0     0     1   \n",
      "4   5  45  20  17   2   3  30   8  12    0  ...      1     0     0     0   \n",
      "\n",
      "   X379  X380  X382  X383  X384  X385  \n",
      "0     0     0     0     0     0     0  \n",
      "1     0     0     0     0     0     0  \n",
      "2     0     0     0     0     0     0  \n",
      "3     0     0     0     0     0     0  \n",
      "4     0     0     0     0     0     0  \n",
      "\n",
      "[5 rows x 377 columns]\n"
     ]
    }
   ],
   "source": [
    "import pandas as pd\n",
    "from sklearn import linear_model\n",
    "\n",
    "train_df = pd.read_csv(\"q3_train.csv\")\n",
    "test_df = pd.read_csv(\"q3_test.csv\")\n",
    "\n",
    "print (test_df[:5])\n",
    "\n",
    "X_train = train_df.drop(['ID','y'],axis=1)\n",
    "Y_train = train_df['y']\n",
    "Y_trainOrig = train_df['y']\n",
    "\n",
    "X_test = test_df.drop(['ID'],axis=1)\n"
   ]
  },
  {
   "cell_type": "code",
   "execution_count": 15,
   "metadata": {
    "scrolled": true
   },
   "outputs": [
    {
     "data": {
      "text/plain": [
       "<matplotlib.axes._subplots.AxesSubplot at 0x1fb0a12e518>"
      ]
     },
     "execution_count": 15,
     "metadata": {},
     "output_type": "execute_result"
    },
    {
     "data": {
      "image/png": "[encoded data removed]",
      "text/plain": [
       "<Figure size 432x288 with 1 Axes>"
      ]
     },
     "metadata": {},
     "output_type": "display_data"
    }
   ],
   "source": [
    "Y_train.hist() # Right-tailed Distribution"
   ]
  },
  {
   "cell_type": "code",
   "execution_count": 16,
   "metadata": {
    "scrolled": true
   },
   "outputs": [
    {
     "name": "stdout",
     "output_type": "stream",
     "text": [
      "Number of NAs: 0\n",
      "4209\n"
     ]
    }
   ],
   "source": [
    "# Check for number of empty values.\n",
    "print (\"Number of NAs:\", train_df.isna().any().sum())\n",
    "train_df.dropna(inplace = True)\n",
    "print (len(train_df))"
   ]
  },
  {
   "cell_type": "code",
   "execution_count": 17,
   "metadata": {
    "scrolled": true
   },
   "outputs": [
    {
     "name": "stdout",
     "output_type": "stream",
     "text": [
      "ID    1770.00\n",
      "y      265.32\n",
      "X0      45.00\n",
      "X1      19.00\n",
      "X2       7.00\n",
      "Name: 883, dtype: float64\n"
     ]
    },
    {
     "data": {
      "text/html": [
       "<div>\n",
       "<style scoped>\n",
       "    .dataframe tbody tr th:only-of-type {\n",
       "        vertical-align: middle;\n",
       "    }\n",
       "\n",
       "    .dataframe tbody tr th {\n",
       "        vertical-align: top;\n",
       "    }\n",
       "\n",
       "    .dataframe thead th {\n",
       "        text-align: right;\n",
       "    }\n",
       "</style>\n",
       "<table border=\"1\" class=\"dataframe\">\n",
       "  <thead>\n",
       "    <tr style=\"text-align: right;\">\n",
       "      <th></th>\n",
       "      <th>ID</th>\n",
       "      <th>y</th>\n",
       "      <th>X0</th>\n",
       "      <th>X1</th>\n",
       "      <th>X2</th>\n",
       "      <th>X3</th>\n",
       "      <th>X4</th>\n",
       "      <th>X5</th>\n",
       "      <th>X6</th>\n",
       "      <th>X8</th>\n",
       "      <th>...</th>\n",
       "      <th>X375</th>\n",
       "      <th>X376</th>\n",
       "      <th>X377</th>\n",
       "      <th>X378</th>\n",
       "      <th>X379</th>\n",
       "      <th>X380</th>\n",
       "      <th>X382</th>\n",
       "      <th>X383</th>\n",
       "      <th>X384</th>\n",
       "      <th>X385</th>\n",
       "    </tr>\n",
       "  </thead>\n",
       "  <tbody>\n",
       "    <tr>\n",
       "      <th>count</th>\n",
       "      <td>4209.000000</td>\n",
       "      <td>4209.000000</td>\n",
       "      <td>4209.000000</td>\n",
       "      <td>4209.000000</td>\n",
       "      <td>4209.000000</td>\n",
       "      <td>4209.000000</td>\n",
       "      <td>4209.000000</td>\n",
       "      <td>4209.000000</td>\n",
       "      <td>4209.000000</td>\n",
       "      <td>4209.000000</td>\n",
       "      <td>...</td>\n",
       "      <td>4209.000000</td>\n",
       "      <td>4209.000000</td>\n",
       "      <td>4209.000000</td>\n",
       "      <td>4209.000000</td>\n",
       "      <td>4209.000000</td>\n",
       "      <td>4209.000000</td>\n",
       "      <td>4209.000000</td>\n",
       "      <td>4209.000000</td>\n",
       "      <td>4209.000000</td>\n",
       "      <td>4209.000000</td>\n",
       "    </tr>\n",
       "    <tr>\n",
       "      <th>mean</th>\n",
       "      <td>4205.960798</td>\n",
       "      <td>100.669318</td>\n",
       "      <td>29.760751</td>\n",
       "      <td>11.113566</td>\n",
       "      <td>17.306486</td>\n",
       "      <td>2.919696</td>\n",
       "      <td>2.997862</td>\n",
       "      <td>13.340223</td>\n",
       "      <td>6.807318</td>\n",
       "      <td>11.611309</td>\n",
       "      <td>...</td>\n",
       "      <td>0.318841</td>\n",
       "      <td>0.057258</td>\n",
       "      <td>0.314802</td>\n",
       "      <td>0.020670</td>\n",
       "      <td>0.009503</td>\n",
       "      <td>0.008078</td>\n",
       "      <td>0.007603</td>\n",
       "      <td>0.001663</td>\n",
       "      <td>0.000475</td>\n",
       "      <td>0.001426</td>\n",
       "    </tr>\n",
       "    <tr>\n",
       "      <th>std</th>\n",
       "      <td>2437.608688</td>\n",
       "      <td>12.679381</td>\n",
       "      <td>13.738338</td>\n",
       "      <td>8.531001</td>\n",
       "      <td>10.899914</td>\n",
       "      <td>1.739912</td>\n",
       "      <td>0.073900</td>\n",
       "      <td>8.250832</td>\n",
       "      <td>2.916973</td>\n",
       "      <td>7.037888</td>\n",
       "      <td>...</td>\n",
       "      <td>0.466082</td>\n",
       "      <td>0.232363</td>\n",
       "      <td>0.464492</td>\n",
       "      <td>0.142294</td>\n",
       "      <td>0.097033</td>\n",
       "      <td>0.089524</td>\n",
       "      <td>0.086872</td>\n",
       "      <td>0.040752</td>\n",
       "      <td>0.021796</td>\n",
       "      <td>0.037734</td>\n",
       "    </tr>\n",
       "    <tr>\n",
       "      <th>min</th>\n",
       "      <td>0.000000</td>\n",
       "      <td>72.110000</td>\n",
       "      <td>0.000000</td>\n",
       "      <td>0.000000</td>\n",
       "      <td>0.000000</td>\n",
       "      <td>0.000000</td>\n",
       "      <td>0.000000</td>\n",
       "      <td>0.000000</td>\n",
       "      <td>0.000000</td>\n",
       "      <td>0.000000</td>\n",
       "      <td>...</td>\n",
       "      <td>0.000000</td>\n",
       "      <td>0.000000</td>\n",
       "      <td>0.000000</td>\n",
       "      <td>0.000000</td>\n",
       "      <td>0.000000</td>\n",
       "      <td>0.000000</td>\n",
       "      <td>0.000000</td>\n",
       "      <td>0.000000</td>\n",
       "      <td>0.000000</td>\n",
       "      <td>0.000000</td>\n",
       "    </tr>\n",
       "    <tr>\n",
       "      <th>25%</th>\n",
       "      <td>2095.000000</td>\n",
       "      <td>90.820000</td>\n",
       "      <td>19.000000</td>\n",
       "      <td>3.000000</td>\n",
       "      <td>8.000000</td>\n",
       "      <td>2.000000</td>\n",
       "      <td>3.000000</td>\n",
       "      <td>5.000000</td>\n",
       "      <td>6.000000</td>\n",
       "      <td>5.000000</td>\n",
       "      <td>...</td>\n",
       "      <td>0.000000</td>\n",
       "      <td>0.000000</td>\n",
       "      <td>0.000000</td>\n",
       "      <td>0.000000</td>\n",
       "      <td>0.000000</td>\n",
       "      <td>0.000000</td>\n",
       "      <td>0.000000</td>\n",
       "      <td>0.000000</td>\n",
       "      <td>0.000000</td>\n",
       "      <td>0.000000</td>\n",
       "    </tr>\n",
       "    <tr>\n",
       "      <th>50%</th>\n",
       "      <td>4220.000000</td>\n",
       "      <td>99.150000</td>\n",
       "      <td>35.000000</td>\n",
       "      <td>13.000000</td>\n",
       "      <td>16.000000</td>\n",
       "      <td>2.000000</td>\n",
       "      <td>3.000000</td>\n",
       "      <td>15.000000</td>\n",
       "      <td>7.000000</td>\n",
       "      <td>11.000000</td>\n",
       "      <td>...</td>\n",
       "      <td>0.000000</td>\n",
       "      <td>0.000000</td>\n",
       "      <td>0.000000</td>\n",
       "      <td>0.000000</td>\n",
       "      <td>0.000000</td>\n",
       "      <td>0.000000</td>\n",
       "      <td>0.000000</td>\n",
       "      <td>0.000000</td>\n",
       "      <td>0.000000</td>\n",
       "      <td>0.000000</td>\n",
       "    </tr>\n",
       "    <tr>\n",
       "      <th>75%</th>\n",
       "      <td>6314.000000</td>\n",
       "      <td>109.010000</td>\n",
       "      <td>43.000000</td>\n",
       "      <td>20.000000</td>\n",
       "      <td>25.000000</td>\n",
       "      <td>5.000000</td>\n",
       "      <td>3.000000</td>\n",
       "      <td>21.000000</td>\n",
       "      <td>9.000000</td>\n",
       "      <td>18.000000</td>\n",
       "      <td>...</td>\n",
       "      <td>1.000000</td>\n",
       "      <td>0.000000</td>\n",
       "      <td>1.000000</td>\n",
       "      <td>0.000000</td>\n",
       "      <td>0.000000</td>\n",
       "      <td>0.000000</td>\n",
       "      <td>0.000000</td>\n",
       "      <td>0.000000</td>\n",
       "      <td>0.000000</td>\n",
       "      <td>0.000000</td>\n",
       "    </tr>\n",
       "    <tr>\n",
       "      <th>max</th>\n",
       "      <td>8417.000000</td>\n",
       "      <td>265.320000</td>\n",
       "      <td>46.000000</td>\n",
       "      <td>26.000000</td>\n",
       "      <td>43.000000</td>\n",
       "      <td>6.000000</td>\n",
       "      <td>3.000000</td>\n",
       "      <td>28.000000</td>\n",
       "      <td>11.000000</td>\n",
       "      <td>24.000000</td>\n",
       "      <td>...</td>\n",
       "      <td>1.000000</td>\n",
       "      <td>1.000000</td>\n",
       "      <td>1.000000</td>\n",
       "      <td>1.000000</td>\n",
       "      <td>1.000000</td>\n",
       "      <td>1.000000</td>\n",
       "      <td>1.000000</td>\n",
       "      <td>1.000000</td>\n",
       "      <td>1.000000</td>\n",
       "      <td>1.000000</td>\n",
       "    </tr>\n",
       "  </tbody>\n",
       "</table>\n",
       "<p>8 rows × 378 columns</p>\n",
       "</div>"
      ],
      "text/plain": [
       "                ID            y           X0           X1           X2  \\\n",
       "count  4209.000000  4209.000000  4209.000000  4209.000000  4209.000000   \n",
       "mean   4205.960798   100.669318    29.760751    11.113566    17.306486   \n",
       "std    2437.608688    12.679381    13.738338     8.531001    10.899914   \n",
       "min       0.000000    72.110000     0.000000     0.000000     0.000000   \n",
       "25%    2095.000000    90.820000    19.000000     3.000000     8.000000   \n",
       "50%    4220.000000    99.150000    35.000000    13.000000    16.000000   \n",
       "75%    6314.000000   109.010000    43.000000    20.000000    25.000000   \n",
       "max    8417.000000   265.320000    46.000000    26.000000    43.000000   \n",
       "\n",
       "                X3           X4           X5           X6           X8  \\\n",
       "count  4209.000000  4209.000000  4209.000000  4209.000000  4209.000000   \n",
       "mean      2.919696     2.997862    13.340223     6.807318    11.611309   \n",
       "std       1.739912     0.073900     8.250832     2.916973     7.037888   \n",
       "min       0.000000     0.000000     0.000000     0.000000     0.000000   \n",
       "25%       2.000000     3.000000     5.000000     6.000000     5.000000   \n",
       "50%       2.000000     3.000000    15.000000     7.000000    11.000000   \n",
       "75%       5.000000     3.000000    21.000000     9.000000    18.000000   \n",
       "max       6.000000     3.000000    28.000000    11.000000    24.000000   \n",
       "\n",
       "          ...              X375         X376         X377         X378  \\\n",
       "count     ...       4209.000000  4209.000000  4209.000000  4209.000000   \n",
       "mean      ...          0.318841     0.057258     0.314802     0.020670   \n",
       "std       ...          0.466082     0.232363     0.464492     0.142294   \n",
       "min       ...          0.000000     0.000000     0.000000     0.000000   \n",
       "25%       ...          0.000000     0.000000     0.000000     0.000000   \n",
       "50%       ...          0.000000     0.000000     0.000000     0.000000   \n",
       "75%       ...          1.000000     0.000000     1.000000     0.000000   \n",
       "max       ...          1.000000     1.000000     1.000000     1.000000   \n",
       "\n",
       "              X379         X380         X382         X383         X384  \\\n",
       "count  4209.000000  4209.000000  4209.000000  4209.000000  4209.000000   \n",
       "mean      0.009503     0.008078     0.007603     0.001663     0.000475   \n",
       "std       0.097033     0.089524     0.086872     0.040752     0.021796   \n",
       "min       0.000000     0.000000     0.000000     0.000000     0.000000   \n",
       "25%       0.000000     0.000000     0.000000     0.000000     0.000000   \n",
       "50%       0.000000     0.000000     0.000000     0.000000     0.000000   \n",
       "75%       0.000000     0.000000     0.000000     0.000000     0.000000   \n",
       "max       1.000000     1.000000     1.000000     1.000000     1.000000   \n",
       "\n",
       "              X385  \n",
       "count  4209.000000  \n",
       "mean      0.001426  \n",
       "std       0.037734  \n",
       "min       0.000000  \n",
       "25%       0.000000  \n",
       "50%       0.000000  \n",
       "75%       0.000000  \n",
       "max       1.000000  \n",
       "\n",
       "[8 rows x 378 columns]"
      ]
     },
     "execution_count": 17,
     "metadata": {},
     "output_type": "execute_result"
    }
   ],
   "source": [
    "train_df.idxmax\n",
    "print (train_df.iloc[883][:5])\n",
    "\n",
    "train_df.describe()"
   ]
  },
  {
   "cell_type": "code",
   "execution_count": 18,
   "metadata": {},
   "outputs": [
    {
     "name": "stdout",
     "output_type": "stream",
     "text": [
      "Number of NAs: 268\n"
     ]
    }
   ],
   "source": [
    "import numpy as np\n",
    "from scipy import stats\n",
    "\n",
    "train_df = train_df[np.abs(train_df - train_df.mean()) <= (3 * train_df.std())] # Change 3 to 7 for MLP\n",
    "\n",
    "print (\"Number of NAs:\", train_df.isna().any().sum())"
   ]
  },
  {
   "cell_type": "code",
   "execution_count": 19,
   "metadata": {
    "scrolled": true
   },
   "outputs": [
    {
     "name": "stdout",
     "output_type": "stream",
     "text": [
      "   ID       y  X0  X1  X2  X3   X4  X5  X6  X8  ...   X375  X376  X377  X378  \\\n",
      "0   0  130.81  32  23  17   0  3.0  24   9  14  ...      0   0.0     1   0.0   \n",
      "1   6   88.53  32  21  19   4  3.0  28  11  14  ...      1   0.0     0   0.0   \n",
      "2   7   76.26  20  24  34   2  3.0  27   9  23  ...      0   0.0     0   0.0   \n",
      "3   9   80.62  20  21  34   5  3.0  27  11   4  ...      0   0.0     0   0.0   \n",
      "4  13   78.02  20  23  34   5  3.0  12   3  13  ...      0   0.0     0   0.0   \n",
      "\n",
      "   X379  X380  X382  X383  X384  X385  \n",
      "0   0.0   0.0   0.0   0.0   0.0   0.0  \n",
      "1   0.0   0.0   0.0   0.0   0.0   0.0  \n",
      "2   0.0   0.0   NaN   0.0   0.0   0.0  \n",
      "3   0.0   0.0   0.0   0.0   0.0   0.0  \n",
      "4   0.0   0.0   0.0   0.0   0.0   0.0  \n",
      "\n",
      "[5 rows x 378 columns]\n"
     ]
    }
   ],
   "source": [
    "print (train_df[:5])"
   ]
  },
  {
   "cell_type": "code",
   "execution_count": 21,
   "metadata": {
    "scrolled": false
   },
   "outputs": [
    {
     "data": {
      "text/html": [
       "<div>\n",
       "<style scoped>\n",
       "    .dataframe tbody tr th:only-of-type {\n",
       "        vertical-align: middle;\n",
       "    }\n",
       "\n",
       "    .dataframe tbody tr th {\n",
       "        vertical-align: top;\n",
       "    }\n",
       "\n",
       "    .dataframe thead th {\n",
       "        text-align: right;\n",
       "    }\n",
       "</style>\n",
       "<table border=\"1\" class=\"dataframe\">\n",
       "  <thead>\n",
       "    <tr style=\"text-align: right;\">\n",
       "      <th></th>\n",
       "      <th>ID</th>\n",
       "      <th>y</th>\n",
       "      <th>X0</th>\n",
       "      <th>X1</th>\n",
       "      <th>X2</th>\n",
       "      <th>X3</th>\n",
       "      <th>X4</th>\n",
       "      <th>X5</th>\n",
       "      <th>X6</th>\n",
       "      <th>X8</th>\n",
       "      <th>...</th>\n",
       "      <th>X375</th>\n",
       "      <th>X376</th>\n",
       "      <th>X377</th>\n",
       "      <th>X378</th>\n",
       "      <th>X379</th>\n",
       "      <th>X380</th>\n",
       "      <th>X382</th>\n",
       "      <th>X383</th>\n",
       "      <th>X384</th>\n",
       "      <th>X385</th>\n",
       "    </tr>\n",
       "  </thead>\n",
       "  <tbody>\n",
       "    <tr>\n",
       "      <th>count</th>\n",
       "      <td>4209.000000</td>\n",
       "      <td>4169.000000</td>\n",
       "      <td>4209.000000</td>\n",
       "      <td>4209.000000</td>\n",
       "      <td>4209.000000</td>\n",
       "      <td>4209.000000</td>\n",
       "      <td>4205.0</td>\n",
       "      <td>4209.000000</td>\n",
       "      <td>4209.000000</td>\n",
       "      <td>4209.000000</td>\n",
       "      <td>...</td>\n",
       "      <td>4209.000000</td>\n",
       "      <td>3968.0</td>\n",
       "      <td>4209.000000</td>\n",
       "      <td>4122.0</td>\n",
       "      <td>4169.0</td>\n",
       "      <td>4175.0</td>\n",
       "      <td>4177.0</td>\n",
       "      <td>4202.0</td>\n",
       "      <td>4207.0</td>\n",
       "      <td>4203.0</td>\n",
       "    </tr>\n",
       "    <tr>\n",
       "      <th>mean</th>\n",
       "      <td>4205.960798</td>\n",
       "      <td>100.184845</td>\n",
       "      <td>29.760751</td>\n",
       "      <td>11.113566</td>\n",
       "      <td>17.306486</td>\n",
       "      <td>2.919696</td>\n",
       "      <td>3.0</td>\n",
       "      <td>13.340223</td>\n",
       "      <td>6.807318</td>\n",
       "      <td>11.611309</td>\n",
       "      <td>...</td>\n",
       "      <td>0.318841</td>\n",
       "      <td>0.0</td>\n",
       "      <td>0.314802</td>\n",
       "      <td>0.0</td>\n",
       "      <td>0.0</td>\n",
       "      <td>0.0</td>\n",
       "      <td>0.0</td>\n",
       "      <td>0.0</td>\n",
       "      <td>0.0</td>\n",
       "      <td>0.0</td>\n",
       "    </tr>\n",
       "    <tr>\n",
       "      <th>std</th>\n",
       "      <td>2437.608688</td>\n",
       "      <td>11.564769</td>\n",
       "      <td>13.738338</td>\n",
       "      <td>8.531001</td>\n",
       "      <td>10.899914</td>\n",
       "      <td>1.739912</td>\n",
       "      <td>0.0</td>\n",
       "      <td>8.250832</td>\n",
       "      <td>2.916973</td>\n",
       "      <td>7.037888</td>\n",
       "      <td>...</td>\n",
       "      <td>0.466082</td>\n",
       "      <td>0.0</td>\n",
       "      <td>0.464492</td>\n",
       "      <td>0.0</td>\n",
       "      <td>0.0</td>\n",
       "      <td>0.0</td>\n",
       "      <td>0.0</td>\n",
       "      <td>0.0</td>\n",
       "      <td>0.0</td>\n",
       "      <td>0.0</td>\n",
       "    </tr>\n",
       "    <tr>\n",
       "      <th>min</th>\n",
       "      <td>0.000000</td>\n",
       "      <td>72.110000</td>\n",
       "      <td>0.000000</td>\n",
       "      <td>0.000000</td>\n",
       "      <td>0.000000</td>\n",
       "      <td>0.000000</td>\n",
       "      <td>3.0</td>\n",
       "      <td>0.000000</td>\n",
       "      <td>0.000000</td>\n",
       "      <td>0.000000</td>\n",
       "      <td>...</td>\n",
       "      <td>0.000000</td>\n",
       "      <td>0.0</td>\n",
       "      <td>0.000000</td>\n",
       "      <td>0.0</td>\n",
       "      <td>0.0</td>\n",
       "      <td>0.0</td>\n",
       "      <td>0.0</td>\n",
       "      <td>0.0</td>\n",
       "      <td>0.0</td>\n",
       "      <td>0.0</td>\n",
       "    </tr>\n",
       "    <tr>\n",
       "      <th>25%</th>\n",
       "      <td>2095.000000</td>\n",
       "      <td>90.790000</td>\n",
       "      <td>19.000000</td>\n",
       "      <td>3.000000</td>\n",
       "      <td>8.000000</td>\n",
       "      <td>2.000000</td>\n",
       "      <td>3.0</td>\n",
       "      <td>5.000000</td>\n",
       "      <td>6.000000</td>\n",
       "      <td>5.000000</td>\n",
       "      <td>...</td>\n",
       "      <td>0.000000</td>\n",
       "      <td>0.0</td>\n",
       "      <td>0.000000</td>\n",
       "      <td>0.0</td>\n",
       "      <td>0.0</td>\n",
       "      <td>0.0</td>\n",
       "      <td>0.0</td>\n",
       "      <td>0.0</td>\n",
       "      <td>0.0</td>\n",
       "      <td>0.0</td>\n",
       "    </tr>\n",
       "    <tr>\n",
       "      <th>50%</th>\n",
       "      <td>4220.000000</td>\n",
       "      <td>99.010000</td>\n",
       "      <td>35.000000</td>\n",
       "      <td>13.000000</td>\n",
       "      <td>16.000000</td>\n",
       "      <td>2.000000</td>\n",
       "      <td>3.0</td>\n",
       "      <td>15.000000</td>\n",
       "      <td>7.000000</td>\n",
       "      <td>11.000000</td>\n",
       "      <td>...</td>\n",
       "      <td>0.000000</td>\n",
       "      <td>0.0</td>\n",
       "      <td>0.000000</td>\n",
       "      <td>0.0</td>\n",
       "      <td>0.0</td>\n",
       "      <td>0.0</td>\n",
       "      <td>0.0</td>\n",
       "      <td>0.0</td>\n",
       "      <td>0.0</td>\n",
       "      <td>0.0</td>\n",
       "    </tr>\n",
       "    <tr>\n",
       "      <th>75%</th>\n",
       "      <td>6314.000000</td>\n",
       "      <td>108.850000</td>\n",
       "      <td>43.000000</td>\n",
       "      <td>20.000000</td>\n",
       "      <td>25.000000</td>\n",
       "      <td>5.000000</td>\n",
       "      <td>3.0</td>\n",
       "      <td>21.000000</td>\n",
       "      <td>9.000000</td>\n",
       "      <td>18.000000</td>\n",
       "      <td>...</td>\n",
       "      <td>1.000000</td>\n",
       "      <td>0.0</td>\n",
       "      <td>1.000000</td>\n",
       "      <td>0.0</td>\n",
       "      <td>0.0</td>\n",
       "      <td>0.0</td>\n",
       "      <td>0.0</td>\n",
       "      <td>0.0</td>\n",
       "      <td>0.0</td>\n",
       "      <td>0.0</td>\n",
       "    </tr>\n",
       "    <tr>\n",
       "      <th>max</th>\n",
       "      <td>8417.000000</td>\n",
       "      <td>138.190000</td>\n",
       "      <td>46.000000</td>\n",
       "      <td>26.000000</td>\n",
       "      <td>43.000000</td>\n",
       "      <td>6.000000</td>\n",
       "      <td>3.0</td>\n",
       "      <td>28.000000</td>\n",
       "      <td>11.000000</td>\n",
       "      <td>24.000000</td>\n",
       "      <td>...</td>\n",
       "      <td>1.000000</td>\n",
       "      <td>0.0</td>\n",
       "      <td>1.000000</td>\n",
       "      <td>0.0</td>\n",
       "      <td>0.0</td>\n",
       "      <td>0.0</td>\n",
       "      <td>0.0</td>\n",
       "      <td>0.0</td>\n",
       "      <td>0.0</td>\n",
       "      <td>0.0</td>\n",
       "    </tr>\n",
       "  </tbody>\n",
       "</table>\n",
       "<p>8 rows × 378 columns</p>\n",
       "</div>"
      ],
      "text/plain": [
       "                ID            y           X0           X1           X2  \\\n",
       "count  4209.000000  4169.000000  4209.000000  4209.000000  4209.000000   \n",
       "mean   4205.960798   100.184845    29.760751    11.113566    17.306486   \n",
       "std    2437.608688    11.564769    13.738338     8.531001    10.899914   \n",
       "min       0.000000    72.110000     0.000000     0.000000     0.000000   \n",
       "25%    2095.000000    90.790000    19.000000     3.000000     8.000000   \n",
       "50%    4220.000000    99.010000    35.000000    13.000000    16.000000   \n",
       "75%    6314.000000   108.850000    43.000000    20.000000    25.000000   \n",
       "max    8417.000000   138.190000    46.000000    26.000000    43.000000   \n",
       "\n",
       "                X3      X4           X5           X6           X8   ...    \\\n",
       "count  4209.000000  4205.0  4209.000000  4209.000000  4209.000000   ...     \n",
       "mean      2.919696     3.0    13.340223     6.807318    11.611309   ...     \n",
       "std       1.739912     0.0     8.250832     2.916973     7.037888   ...     \n",
       "min       0.000000     3.0     0.000000     0.000000     0.000000   ...     \n",
       "25%       2.000000     3.0     5.000000     6.000000     5.000000   ...     \n",
       "50%       2.000000     3.0    15.000000     7.000000    11.000000   ...     \n",
       "75%       5.000000     3.0    21.000000     9.000000    18.000000   ...     \n",
       "max       6.000000     3.0    28.000000    11.000000    24.000000   ...     \n",
       "\n",
       "              X375    X376         X377    X378    X379    X380    X382  \\\n",
       "count  4209.000000  3968.0  4209.000000  4122.0  4169.0  4175.0  4177.0   \n",
       "mean      0.318841     0.0     0.314802     0.0     0.0     0.0     0.0   \n",
       "std       0.466082     0.0     0.464492     0.0     0.0     0.0     0.0   \n",
       "min       0.000000     0.0     0.000000     0.0     0.0     0.0     0.0   \n",
       "25%       0.000000     0.0     0.000000     0.0     0.0     0.0     0.0   \n",
       "50%       0.000000     0.0     0.000000     0.0     0.0     0.0     0.0   \n",
       "75%       1.000000     0.0     1.000000     0.0     0.0     0.0     0.0   \n",
       "max       1.000000     0.0     1.000000     0.0     0.0     0.0     0.0   \n",
       "\n",
       "         X383    X384    X385  \n",
       "count  4202.0  4207.0  4203.0  \n",
       "mean      0.0     0.0     0.0  \n",
       "std       0.0     0.0     0.0  \n",
       "min       0.0     0.0     0.0  \n",
       "25%       0.0     0.0     0.0  \n",
       "50%       0.0     0.0     0.0  \n",
       "75%       0.0     0.0     0.0  \n",
       "max       0.0     0.0     0.0  \n",
       "\n",
       "[8 rows x 378 columns]"
      ]
     },
     "execution_count": 21,
     "metadata": {},
     "output_type": "execute_result"
    }
   ],
   "source": [
    "train_df.describe()"
   ]
  },
  {
   "cell_type": "code",
   "execution_count": 22,
   "metadata": {
    "scrolled": false
   },
   "outputs": [
    {
     "data": {
      "text/html": [
       "<div>\n",
       "<style scoped>\n",
       "    .dataframe tbody tr th:only-of-type {\n",
       "        vertical-align: middle;\n",
       "    }\n",
       "\n",
       "    .dataframe tbody tr th {\n",
       "        vertical-align: top;\n",
       "    }\n",
       "\n",
       "    .dataframe thead th {\n",
       "        text-align: right;\n",
       "    }\n",
       "</style>\n",
       "<table border=\"1\" class=\"dataframe\">\n",
       "  <thead>\n",
       "    <tr style=\"text-align: right;\">\n",
       "      <th></th>\n",
       "      <th>X0</th>\n",
       "      <th>X1</th>\n",
       "      <th>X2</th>\n",
       "      <th>X3</th>\n",
       "      <th>X4</th>\n",
       "      <th>X5</th>\n",
       "      <th>X6</th>\n",
       "      <th>X8</th>\n",
       "    </tr>\n",
       "  </thead>\n",
       "  <tbody>\n",
       "    <tr>\n",
       "      <th>0</th>\n",
       "      <td>32</td>\n",
       "      <td>23</td>\n",
       "      <td>17</td>\n",
       "      <td>0</td>\n",
       "      <td>3</td>\n",
       "      <td>24</td>\n",
       "      <td>9</td>\n",
       "      <td>14</td>\n",
       "    </tr>\n",
       "    <tr>\n",
       "      <th>1</th>\n",
       "      <td>32</td>\n",
       "      <td>21</td>\n",
       "      <td>19</td>\n",
       "      <td>4</td>\n",
       "      <td>3</td>\n",
       "      <td>28</td>\n",
       "      <td>11</td>\n",
       "      <td>14</td>\n",
       "    </tr>\n",
       "    <tr>\n",
       "      <th>2</th>\n",
       "      <td>20</td>\n",
       "      <td>24</td>\n",
       "      <td>34</td>\n",
       "      <td>2</td>\n",
       "      <td>3</td>\n",
       "      <td>27</td>\n",
       "      <td>9</td>\n",
       "      <td>23</td>\n",
       "    </tr>\n",
       "    <tr>\n",
       "      <th>3</th>\n",
       "      <td>20</td>\n",
       "      <td>21</td>\n",
       "      <td>34</td>\n",
       "      <td>5</td>\n",
       "      <td>3</td>\n",
       "      <td>27</td>\n",
       "      <td>11</td>\n",
       "      <td>4</td>\n",
       "    </tr>\n",
       "    <tr>\n",
       "      <th>4</th>\n",
       "      <td>20</td>\n",
       "      <td>23</td>\n",
       "      <td>34</td>\n",
       "      <td>5</td>\n",
       "      <td>3</td>\n",
       "      <td>12</td>\n",
       "      <td>3</td>\n",
       "      <td>13</td>\n",
       "    </tr>\n",
       "  </tbody>\n",
       "</table>\n",
       "</div>"
      ],
      "text/plain": [
       "   X0  X1  X2  X3  X4  X5  X6  X8\n",
       "0  32  23  17   0   3  24   9  14\n",
       "1  32  21  19   4   3  28  11  14\n",
       "2  20  24  34   2   3  27   9  23\n",
       "3  20  21  34   5   3  27  11   4\n",
       "4  20  23  34   5   3  12   3  13"
      ]
     },
     "execution_count": 22,
     "metadata": {},
     "output_type": "execute_result"
    }
   ],
   "source": [
    "X_train.iloc[:5, :8]"
   ]
  },
  {
   "cell_type": "code",
   "execution_count": 23,
   "metadata": {
    "scrolled": true
   },
   "outputs": [
    {
     "name": "stdout",
     "output_type": "stream",
     "text": [
      "[[ 0.16301209  1.39348787 -0.02812155 ...  1.29211729  0.75178725\n",
      "   0.33944483]\n",
      " [ 0.16301209  1.15902093  0.15538793 ...  1.77697445  1.43751106\n",
      "   0.33944483]\n",
      " [-0.71055977  1.51072134  1.53170902 ...  1.65576016  0.75178725\n",
      "   1.61838949]\n",
      " ...\n",
      " [-1.58413164  1.39348787  1.89872798 ... -1.61702573 -0.27679847\n",
      "  -1.08160479]\n",
      " [-1.51133398  0.924554    0.70591637 ... -1.61702573  1.43751106\n",
      "   1.1920746 ]\n",
      " [ 1.18217927  0.924554   -1.31268791 ... -1.61702573 -0.27679847\n",
      "   1.47628453]]\n"
     ]
    }
   ],
   "source": [
    "from sklearn import preprocessing \n",
    "\n",
    "scaler = preprocessing.StandardScaler()\n",
    "scaler.fit(X_train.iloc[:, :8])\n",
    "X_train = scaler.transform(X_train.iloc[:, :8])\n",
    "print (X_train)\n"
   ]
  },
  {
   "cell_type": "code",
   "execution_count": 24,
   "metadata": {},
   "outputs": [
    {
     "name": "stdout",
     "output_type": "stream",
     "text": [
      "Length of DF Before MV Outlier Removal: 4209\n",
      "Length of DF After MV Outlier Removal: 3962\n"
     ]
    }
   ],
   "source": [
    "# Remove multivariate outliers, only in non-catecgorical variables\n",
    "from sklearn import svm\n",
    "\n",
    "outliers_fraction = 0.01 \n",
    "nu_estimate = 0.95 * outliers_fraction + 0.05\n",
    "auto_detection = svm.OneClassSVM(gamma = 0.01, degree = 3, nu = nu_estimate)\n",
    "auto_detection.fit(X_train)\n",
    "evaluation_mask = auto_detection.predict(X_train)\n",
    "print (\"Length of DF Before MV Outlier Removal:\", len(train_df))\n",
    "train_df = train_df[evaluation_mask != -1]\n",
    "print (\"Length of DF After MV Outlier Removal:\", len(train_df))\n"
   ]
  },
  {
   "cell_type": "code",
   "execution_count": 26,
   "metadata": {
    "scrolled": true
   },
   "outputs": [
    {
     "name": "stdout",
     "output_type": "stream",
     "text": [
      "Imputing row 1/3962 with 23 missing, elapsed time: 47.041\n",
      "Imputing row 101/3962 with 2 missing, elapsed time: 47.058\n",
      "Imputing row 201/3962 with 0 missing, elapsed time: 47.072\n",
      "Imputing row 301/3962 with 2 missing, elapsed time: 47.090\n",
      "Imputing row 401/3962 with 3 missing, elapsed time: 47.108\n",
      "Imputing row 501/3962 with 3 missing, elapsed time: 47.122\n",
      "Imputing row 601/3962 with 5 missing, elapsed time: 47.143\n",
      "Imputing row 701/3962 with 15 missing, elapsed time: 47.163\n",
      "Imputing row 801/3962 with 7 missing, elapsed time: 47.180\n",
      "Imputing row 901/3962 with 0 missing, elapsed time: 47.197\n",
      "Imputing row 1001/3962 with 18 missing, elapsed time: 47.213\n",
      "Imputing row 1101/3962 with 2 missing, elapsed time: 47.234\n",
      "Imputing row 1201/3962 with 4 missing, elapsed time: 47.257\n",
      "Imputing row 1301/3962 with 17 missing, elapsed time: 47.283\n",
      "Imputing row 1401/3962 with 4 missing, elapsed time: 47.306\n",
      "Imputing row 1501/3962 with 3 missing, elapsed time: 47.323\n",
      "Imputing row 1601/3962 with 2 missing, elapsed time: 47.345\n",
      "Imputing row 1701/3962 with 3 missing, elapsed time: 47.358\n",
      "Imputing row 1801/3962 with 2 missing, elapsed time: 47.380\n",
      "Imputing row 1901/3962 with 6 missing, elapsed time: 47.391\n",
      "Imputing row 2001/3962 with 6 missing, elapsed time: 47.411\n",
      "Imputing row 2101/3962 with 0 missing, elapsed time: 47.431\n",
      "Imputing row 2201/3962 with 1 missing, elapsed time: 47.454\n",
      "Imputing row 2301/3962 with 2 missing, elapsed time: 47.474\n",
      "Imputing row 2401/3962 with 3 missing, elapsed time: 47.499\n",
      "Imputing row 2501/3962 with 3 missing, elapsed time: 47.516\n",
      "Imputing row 2601/3962 with 1 missing, elapsed time: 47.535\n",
      "Imputing row 2701/3962 with 2 missing, elapsed time: 47.552\n",
      "Imputing row 2801/3962 with 4 missing, elapsed time: 47.565\n",
      "Imputing row 2901/3962 with 7 missing, elapsed time: 47.581\n",
      "Imputing row 3001/3962 with 3 missing, elapsed time: 47.603\n",
      "Imputing row 3101/3962 with 2 missing, elapsed time: 47.627\n",
      "Imputing row 3201/3962 with 1 missing, elapsed time: 47.644\n",
      "Imputing row 3301/3962 with 8 missing, elapsed time: 47.668\n",
      "Imputing row 3401/3962 with 2 missing, elapsed time: 47.692\n",
      "Imputing row 3501/3962 with 4 missing, elapsed time: 47.707\n",
      "Imputing row 3601/3962 with 5 missing, elapsed time: 47.722\n",
      "Imputing row 3701/3962 with 31 missing, elapsed time: 47.740\n",
      "Imputing row 3801/3962 with 9 missing, elapsed time: 47.758\n",
      "Imputing row 3901/3962 with 3 missing, elapsed time: 47.776\n",
      "Number of NAs: 0\n",
      "    0       1     2     3     4    5    6     7     8     9   ...   368  369  \\\n",
      "0   0.0  130.81  32.0  23.0  17.0  0.0  3.0  24.0   9.0  14.0 ...   0.0  0.0   \n",
      "1   6.0   88.53  32.0  21.0  19.0  4.0  3.0  28.0  11.0  14.0 ...   1.0  0.0   \n",
      "2   7.0   76.26  20.0  24.0  34.0  2.0  3.0  27.0   9.0  23.0 ...   0.0  0.0   \n",
      "3  13.0   78.02  20.0  23.0  34.0  5.0  3.0  12.0   3.0  13.0 ...   0.0  0.0   \n",
      "4  18.0   92.93  40.0   3.0  25.0  2.0  3.0  11.0   7.0  18.0 ...   0.0  0.0   \n",
      "\n",
      "   370  371  372  373  374  375  376  377  \n",
      "0  1.0  0.0  0.0  0.0  0.0  0.0  0.0  0.0  \n",
      "1  0.0  0.0  0.0  0.0  0.0  0.0  0.0  0.0  \n",
      "2  0.0  0.0  0.0  0.0  0.0  0.0  0.0  0.0  \n",
      "3  0.0  0.0  0.0  0.0  0.0  0.0  0.0  0.0  \n",
      "4  1.0  0.0  0.0  0.0  0.0  0.0  0.0  0.0  \n",
      "\n",
      "[5 rows x 378 columns]\n"
     ]
    }
   ],
   "source": [
    "from fancyimpute import KNN    \n",
    "\n",
    "train_df = KNN(k=3).fit_transform(train_df)\n",
    "train_df = pd.DataFrame(data = train_df)\n",
    "\n",
    "print (\"Number of NAs:\", train_df.isna().any().sum())\n",
    "\n",
    "print (train_df[:5])"
   ]
  },
  {
   "cell_type": "code",
   "execution_count": 27,
   "metadata": {
    "scrolled": false
   },
   "outputs": [
    {
     "name": "stdout",
     "output_type": "stream",
     "text": [
      "Length of DF: 3962\n",
      "Length of X Train: 3962\n",
      "Length of Y Train: 3962\n"
     ]
    }
   ],
   "source": [
    "X_train = train_df.drop([0, 1],axis=1)\n",
    "Y_train = train_df[1]\n",
    "print (\"Length of DF:\", len(train_df))\n",
    "print (\"Length of X Train:\",len(X_train))\n",
    "print (\"Length of Y Train:\", len(Y_train))"
   ]
  },
  {
   "cell_type": "code",
   "execution_count": 28,
   "metadata": {},
   "outputs": [
    {
     "name": "stdout",
     "output_type": "stream",
     "text": [
      "Best lasso lambda:  {'alpha': 0.01675801325469417}\n"
     ]
    }
   ],
   "source": [
    "# First Method for Lasso\n",
    "import warnings\n",
    "from sklearn.linear_model import LassoCV\n",
    "from sklearn.linear_model import Lasso\n",
    "from sklearn.model_selection import KFold\n",
    "from sklearn.model_selection import GridSearchCV\n",
    "warnings.filterwarnings('ignore')\n",
    "\n",
    "# Setup lasso and alphas\n",
    "lasso = Lasso(random_state = 50)\n",
    "alphas = 10**np.linspace(10, -6, 100) * 0.5 \n",
    "\n",
    "# Parameters for K-fold CV\n",
    "tuned_parameters = [{'alpha': alphas}]\n",
    "n_folds = 5\n",
    "\n",
    "lrf = GridSearchCV(lasso, tuned_parameters, cv=n_folds, refit=False, scoring = \"neg_mean_absolute_error\") # avg MAE changed to neg\n",
    "lrf.fit(X_train, Y_train)\n",
    "scores = lrf.cv_results_['mean_test_score']\n",
    "scores_std = lrf.cv_results_['std_test_score']\n",
    "lrf_best = lrf.best_params_\n",
    "\n",
    "print (\"Best lasso lambda: \", lrf_best)"
   ]
  },
  {
   "cell_type": "code",
   "execution_count": 29,
   "metadata": {},
   "outputs": [
    {
     "name": "stdout",
     "output_type": "stream",
     "text": [
      "Best lasso alpha: 0.01155064850041579\n"
     ]
    }
   ],
   "source": [
    "# Second Method for Lasso\n",
    "from sklearn.metrics import mean_squared_error, accuracy_score, mean_absolute_error\n",
    "\n",
    "n_folds = 5\n",
    "k_fold = KFold(n_folds)\n",
    "lasso_alphas =  10**np.linspace(10,-6,100)*0.5                  \n",
    "lasso_avg_mse = {}\n",
    "\n",
    "for alpha in lasso_alphas:\n",
    "    lasso = Lasso(alpha=alpha,tol=.1)\n",
    "    avg_mse = 0\n",
    "    for train, test in k_fold.split(X_train):\n",
    "        lasso.fit(X_train.iloc[train], Y_train.iloc[train])\n",
    "        avg_mse = avg_mse + mean_squared_error(Y_train.iloc[test], lasso.predict(X_train.iloc[test]))\n",
    "    lasso_avg_mse[alpha] = avg_mse / n_folds\n",
    "best_alpha_lasso = min(lasso_avg_mse, key=lasso_avg_mse.get)\n",
    "\n",
    "print(\"Best lasso alpha: {}\".format(best_alpha_lasso))"
   ]
  },
  {
   "cell_type": "code",
   "execution_count": 30,
   "metadata": {},
   "outputs": [
    {
     "name": "stdout",
     "output_type": "stream",
     "text": [
      "Best ridge lambda:  {'alpha': 0.01675801325469417}\n"
     ]
    }
   ],
   "source": [
    "# First Method for Ridge\n",
    "from sklearn.linear_model import RidgeCV\n",
    "from sklearn.linear_model import Ridge\n",
    "\n",
    "ridge = Ridge(random_state=50)\n",
    "alphas =10**np.linspace(10,-6,100)*0.5\n",
    "\n",
    "tuned_parameters = [{'alpha': alphas}]\n",
    "n_folds = 5\n",
    "\n",
    "rrf = GridSearchCV(ridge, tuned_parameters, cv=n_folds, scoring = 'neg_mean_absolute_error')\n",
    "rrf.fit(X_train, Y_train)\n",
    "scores = rrf.cv_results_['mean_test_score']\n",
    "scores_std = rrf.cv_results_['std_test_score']\n",
    "rrf_best = lrf.best_params_\n",
    "\n",
    "print (\"Best ridge lambda: \", rrf_best)"
   ]
  },
  {
   "cell_type": "code",
   "execution_count": 31,
   "metadata": {},
   "outputs": [
    {
     "name": "stdout",
     "output_type": "stream",
     "text": [
      "Best ridge alpha: 1.457526531412585\n"
     ]
    }
   ],
   "source": [
    "# Second Method for Ridge\n",
    "ridge_alphas =  10**np.linspace(10,-6,100)*0.5\n",
    "ridge_avg_mse = {}\n",
    "\n",
    "for alpha in ridge_alphas:\n",
    "    ridge = Ridge(alpha=alpha)\n",
    "    avg_mse = 0\n",
    "    for k, (train, test) in enumerate(k_fold.split(X_train)):\n",
    "        ridge.fit(X_train.iloc[train], Y_train.iloc[train])\n",
    "        avg_mse = avg_mse + mean_squared_error(Y_train.iloc[test], ridge.predict(X_train.iloc[test])) \n",
    "    ridge_avg_mse[alpha] = avg_mse / n_folds\n",
    "best_alpha_ridge = min(ridge_avg_mse, key=ridge_avg_mse.get)\n",
    "\n",
    "print(\"Best ridge alpha: {}\".format(best_alpha_ridge))"
   ]
  },
  {
   "cell_type": "code",
   "execution_count": 32,
   "metadata": {},
   "outputs": [
    {
     "name": "stdout",
     "output_type": "stream",
     "text": [
      "Training MSE for lasso: 12.052675984276357\n",
      "Training MSE for ridge: 12.182277606094567\n"
     ]
    }
   ],
   "source": [
    "# First Method Results\n",
    "lasso_reg = linear_model.Lasso(alpha = lrf_best['alpha'], tol=.1)#, max_iter=100000)#,tol=1)\n",
    "ridge_reg = linear_model.Ridge(alpha = rrf_best['alpha'])\n",
    "\n",
    "def fit_reg(model, name):\n",
    "    model.fit(X_train, Y_train)\n",
    "    pred = model.predict(X_test)\n",
    "    mse = mean_absolute_error(pred, Y_trainOrig)\n",
    "    print(\"Training MSE for {0}: {1}\".format(name, mse))\n",
    "\n",
    "fit_reg(lasso_reg, \"lasso\")\n",
    "fit_reg(ridge_reg, \"ridge\")"
   ]
  },
  {
   "cell_type": "code",
   "execution_count": 33,
   "metadata": {
    "scrolled": true
   },
   "outputs": [
    {
     "name": "stdout",
     "output_type": "stream",
     "text": [
      "Training MSE for lasso: 12.084854316739078\n",
      "Training MSE for ridge: 12.15927836845788\n"
     ]
    }
   ],
   "source": [
    "# Second Method Results\n",
    "lasso_reg = linear_model.Lasso(alpha = best_alpha_lasso, tol=.1)#, max_iter=100000)#,tol=1)\n",
    "ridge_reg = linear_model.Ridge(alpha = best_alpha_ridge)\n",
    "\n",
    "def fit_reg(model, name):\n",
    "    model.fit(X_train, Y_train)\n",
    "    pred = model.predict(X_test)\n",
    "    mse = mean_absolute_error(pred, Y_trainOrig)\n",
    "    print(\"Training MSE for {0}: {1}\".format(name, mse))\n",
    "\n",
    "fit_reg(lasso_reg, \"lasso\")\n",
    "fit_reg(ridge_reg, \"ridge\")"
   ]
  },
  {
   "cell_type": "raw",
   "metadata": {},
   "source": [
    "Picked Alpha Values: \n",
    "Lasso Alpha: 0.01675801325469417\n",
    "Ridge Alpha: 1.457526531412585\n",
    "\n",
    "Sometimes, both methods come up with same alpha.\n",
    "\n",
    "NOTE: WHEN WRITING TO CSV, USE TEST_DF, OTHERWISE, OUTPUT IS WRITTEN AS STRING INSTEAD OF INT"
   ]
  },
  {
   "cell_type": "code",
   "execution_count": 38,
   "metadata": {},
   "outputs": [
    {
     "name": "stdout",
     "output_type": "stream",
     "text": [
      "4209\n",
      "4209\n"
     ]
    }
   ],
   "source": [
    "import csv\n",
    "# Test answers\n",
    "lasso = Lasso(alpha = 0.01675801325469417, tol=.1)\n",
    "lasso.fit(X_train, Y_train)\n",
    "lasso_test = lasso.predict(X_test)\n",
    "print (len(lasso_test))\n",
    "\n",
    "ridge = Ridge(alpha= 1.457526531412585)\n",
    "ridge.fit(X_train, Y_train)\n",
    "ridge_test = ridge.predict(X_test)\n",
    "print (len(ridge_test))\n",
    "\n",
    "i = 0\n",
    "with open('lassoPred.csv', 'w') as csvfile:\n",
    "    writer = csv.writer(csvfile, delimiter=',', lineterminator = '\\n')\n",
    "    writer.writerow((\"ID\",\"y\"))\n",
    "    while i < len(lasso_test):\n",
    "        writer.writerow((test_df.iloc[i][0],lasso_test[i]))\n",
    "        i += 1\n",
    "i = 0\n",
    "with open('ridgePred.csv', 'w') as csvfile:\n",
    "    writer = csv.writer(csvfile, delimiter=',', lineterminator = '\\n')\n",
    "    writer.writerow((\"ID\",\"y\"))\n",
    "    while i < len(ridge_test):\n",
    "        writer.writerow((test_df.iloc[i][0],ridge_test[i]))\n",
    "        i += 1"
   ]
  },
  {
   "cell_type": "code",
   "execution_count": 39,
   "metadata": {},
   "outputs": [
    {
     "name": "stdout",
     "output_type": "stream",
     "text": [
      "4209\n"
     ]
    }
   ],
   "source": [
    "import csv\n",
    "from sklearn.neural_network import MLPRegressor\n",
    "from sklearn.metrics import mean_squared_error\n",
    "from sklearn.preprocessing import StandardScaler\n",
    "\n",
    "X_scaler = StandardScaler()\n",
    "X_train_mlp = X_scaler.fit_transform(X_train)\n",
    "X_test_mlp = X_scaler.fit_transform(X_test)\n",
    "print (len(X_test_mlp))\n",
    "\n",
    "MLP = MLPRegressor(hidden_layer_sizes = (10,) ,activation = 'tanh', solver = 'adam', random_state = 42,\n",
    "    batch_size = 40, learning_rate_init = 0.03)\n",
    "MLP.fit(X_train_mlp,Y_train)\n",
    "mlp_test = MLP.predict(X_test_mlp)\n",
    "\n",
    "i = 0\n",
    "\n",
    "with open('MLPPred.csv', 'w') as csvfile: \n",
    "    writer = csv.writer(csvfile, delimiter=',', lineterminator = '\\n')\n",
    "    writer.writerow((\"ID\",\"y\"))\n",
    "    while i < len(mlp_test):\n",
    "        writer.writerow((test_df.iloc[i][0],mlp_test[i]))\n",
    "        i += 1"
   ]
  },
  {
   "cell_type": "markdown",
   "metadata": {},
   "source": [
    "# Question 4 - Bayes Decision Theory (10pts)"
   ]
  },
  {
   "cell_type": "markdown",
   "metadata": {},
   "source": [
    "\n",
    "\n",
    "\n",
    "\n"
   ]
  },
  {
   "cell_type": "markdown",
   "metadata": {},
   "source": [
    "## Answer"
   ]
  },
  {
   "cell_type": "markdown",
   "metadata": {},
   "source": [
    "#### a. (2pts) Explain what you understand by class-conditional likelihood, class priors, and posterior probability of a class given an input, and the relationship between them. Please define all symbols and equations used explicitly."
   ]
  },
  {
   "cell_type": "markdown",
   "metadata": {},
   "source": [
    "Class-conditional likelihood is the probability that, given a certain class (C), an input (i) of a certain feature (X) belongs to that class. This is represented as: $$P(Xi | C)$$ \n",
    "\n",
    "Class-priors are the probability of observing a given class (C). This is represented as: $$P(C)$$\n",
    "\n",
    "Posterior probability is the probability that, given a certain input (i) of a feature (X), the input belongs to a certain class (C). This is represented as: $$P(C | Xi)$$\n",
    "\n",
    "They are related by: $$P(C_{i}|X) = \\frac{P(C_{i}) * P(X|C_{i})}{P(X_{i})}$$"
   ]
  },
  {
   "cell_type": "markdown",
   "metadata": {},
   "source": [
    "#### b. (5pts) Suppose you want to learn a binary classifier to predict whether or not a customer will buy a TV. \n",
    "\n",
    "The class label is 0 if the patient does not buy and 1 if he/she does. For each customer, you are given two features, x1 is the per hour salary and x2 is the age. Assume that the class conditional distribution $p(x_1,x_2|C)$ is Gaussian. The mean salary and age of the people who do buy a TV is 40 and 27 respectively and that of those who don't is 16 and 20. Assume that both classes of customers have the same covariance given by the Identity matrix. Further, your sales data suggests that only 1 in 5 people actually bought a TV in the last few years. Mathematically derive the (optimal) Bayes decision boundary for this problem."
   ]
  },
  {
   "cell_type": "markdown",
   "metadata": {},
   "source": [
    "<img src = \"https://imgur.com/KDdKtb4.png\">"
   ]
  },
  {
   "cell_type": "markdown",
   "metadata": {},
   "source": [
    "#### c. (3pts) Write a script to sample 100 customers from each class (C = 0; 1) under the assumed distribution and the estimated parameters and plot their features. Plot the decision boundary you obtained in the part (b) on the same plot."
   ]
  },
  {
   "cell_type": "code",
   "execution_count": 49,
   "metadata": {},
   "outputs": [
    {
     "data": {
      "text/plain": [
       "[<matplotlib.lines.Line2D at 0x1a2e357ad0>]"
      ]
     },
     "execution_count": 49,
     "metadata": {},
     "output_type": "execute_result"
    },
    {
     "data": {
      "image/png": "[encoded data removed]",
      "text/plain": [
       "<Figure size 432x288 with 1 Axes>"
      ]
     },
     "metadata": {},
     "output_type": "display_data"
    }
   ],
   "source": [
    "import numpy as np\n",
    "from matplotlib import pyplot as plt\n",
    "from matplotlib import colors\n",
    "from sklearn.naive_bayes import GaussianNB\n",
    "import warnings\n",
    "warnings.filterwarnings('ignore')\n",
    "%matplotlib inline\n",
    "\n",
    "np.random.seed(33)\n",
    "mu1 = [40, 27]\n",
    "cov1 = [[1, 0], [0, 1]]\n",
    "\n",
    "mu2 = [16, 20]\n",
    "cov2 = [[1, 0], [0, 1]]\n",
    "\n",
    "X = np.concatenate([np.random.multivariate_normal(mu1, cov1, 100),\n",
    "                    np.random.multivariate_normal(mu2, cov2, 100)])\n",
    "y = np.zeros(200)\n",
    "y[:100] = 1\n",
    "\n",
    "x1 = np.arange(14, 40, 1)\n",
    "x2 = (837.88-24*x1)/7\n",
    "\n",
    "plt.scatter(X[:100, 0], X[:100, 1])\n",
    "plt.scatter(X[100:, 0], X[100:, 1])\n",
    "plt.legend(('C = 1','C = 0'))\n",
    "plt.xlabel('Salary')\n",
    "plt.ylabel('Age')\n",
    "plt.ylim([10,40])\n",
    "plt.xlim([10,50])\n",
    "plt.plot(x1,x2,'-')"
   ]
  }
 ],
 "metadata": {
  "kernelspec": {
   "display_name": "Python 3",
   "language": "python",
   "name": "python3"
  },
  "language_info": {
   "codemirror_mode": {
    "name": "ipython",
    "version": 3
   },
   "file_extension": ".py",
   "mimetype": "text/x-python",
   "name": "python",
   "nbconvert_exporter": "python",
   "pygments_lexer": "ipython3",
   "version": "3.6.5"
  }
 },
 "nbformat": 4,
 "nbformat_minor": 2
}
