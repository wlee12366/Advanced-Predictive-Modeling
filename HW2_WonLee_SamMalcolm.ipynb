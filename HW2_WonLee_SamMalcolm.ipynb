{
 "cells": [
  {
   "cell_type": "markdown",
   "metadata": {},
   "source": [
    "\n",
    "# <p style=\"text-align: center;\">MIS 382N: ADVANCED PREDICTIVE MODELING - MSBA</p>\n",
    "# <p style=\"text-align: center;\">Assignment 2</p>\n",
    "## <p style=\"text-align: center;\">Won Lee (Wl6289), Sam Malcolm (STM2334) </p>\n",
    "## <p style=\"text-align: center;\">Total points: 85 </p>\n",
    "## <p style=\"text-align: center;\">Due: Tuesday, October 2nd, submitted via Canvas by 11:59 pm</p>\n",
    "\n",
    "Your homework should be written in a **Jupyter notebook**. You may work in groups of two if you wish. Only one student per team needs to submit the assignment on Canvas.  **Please include the name and UTEID for both students on all submitted files (including this notebook).**\n",
    "\n",
    "Also, please make sure your code runs and the graphics (and anything else) are displayed in your notebook before submitting. (%matplotlib inline)"
   ]
  },
  {
   "cell_type": "markdown",
   "metadata": {},
   "source": [
    "# Question 0. Bias-variance (15pts)\n",
    "Use the following code to read in a small set of data and divide it into training and testing sets. Inputs are x; outputs are y."
   ]
  },
  {
   "cell_type": "code",
   "execution_count": 44,
   "metadata": {},
   "outputs": [
    {
     "name": "stdout",
     "output_type": "stream",
     "text": [
      "Populating the interactive namespace from numpy and matplotlib\n"
     ]
    }
   ],
   "source": [
    "from sklearn import linear_model\n",
    "from sklearn.metrics import mean_squared_error, mean_absolute_error\n",
    "from sklearn.feature_selection import RFE\n",
    "from sklearn.svm import SVR\n",
    "import numpy as np\n",
    "import pandas as pd\n",
    "import warnings\n",
    "import matplotlib\n",
    "from sklearn.preprocessing import PolynomialFeatures\n",
    "%pylab inline\n",
    "warnings.filterwarnings('ignore')\n",
    "\n",
    "data_train = np.genfromtxt('data_q0_train.csv', delimiter=',')\n",
    "x_train = data_train[:,0].reshape(-1, 1)\n",
    "y_train = data_train[:,1].reshape(-1, 1)\n",
    "\n",
    "data_test = np.genfromtxt('data_q0_test.csv', delimiter=',')\n",
    "x_test = data_test[:,0].reshape(-1, 1)\n",
    "y_test = data_test[:,1].reshape(-1, 1)"
   ]
  },
  {
   "cell_type": "markdown",
   "metadata": {},
   "source": [
    "#### We want to build a model that can predict y for unknown inputs x.\n",
    "\n",
    "#### (a)  Fit a linear model to the training data, and report mean squared error on the test data. Plot the data, fitted model, and predictions, clearly denoting the training, testing, and predicted points."
   ]
  },
  {
   "cell_type": "code",
   "execution_count": 45,
   "metadata": {},
   "outputs": [
    {
     "name": "stdout",
     "output_type": "stream",
     "text": [
      "The Test MSE is: 6455.708453830031\n"
     ]
    }
   ],
   "source": [
    "# Create and fit training model\n",
    "reg_train = linear_model.LinearRegression()\n",
    "model_train = reg_train.fit(x_train, y_train)\n",
    "\n",
    "# Evaluate the test set\n",
    "pred_train = model_train.predict(x_train)\n",
    "pred_test = model_train.predict(x_test)\n",
    "test_rmse = mean_squared_error(y_test, pred_test)\n",
    "\n",
    "print \"The Test MSE is: \" + str(test_rmse)"
   ]
  },
  {
   "cell_type": "code",
   "execution_count": 46,
   "metadata": {},
   "outputs": [
    {
     "data": {
      "text/plain": [
       "<matplotlib.legend.Legend at 0x1a2f4e1b90>"
      ]
     },
     "execution_count": 46,
     "metadata": {},
     "output_type": "execute_result"
    },
    {
     "data": {
      "image/png": "[encoded data removed]",
      "text/plain": [
       "<Figure size 432x288 with 1 Axes>"
      ]
     },
     "metadata": {},
     "output_type": "display_data"
    }
   ],
   "source": [
    "plt.scatter(x_train, y_train, c = 'b', label = 'training data')\n",
    "plt.scatter(x_test, y_test, c = 'r', label = 'test data')\n",
    "plt.scatter(x_test, pred_test, c = 'g', label = 'predictions')\n",
    "plot(x_train, pred_train, color='black', linewidth=1, label='Regression')\n",
    "\n",
    "plt.xlabel('x-values')\n",
    "plt.ylabel('y-values')\n",
    "plt.title('Train, Test, and Predicted Data')\n",
    "plt.legend()"
   ]
  },
  {
   "cell_type": "markdown",
   "metadata": {},
   "source": [
    "#### (b) Fit polynomial models of degrees 1,2,3 and 5 to the training data, and report mean squared error for both models. Plot the data, the fitted models, and the predicted outputs."
   ]
  },
  {
   "cell_type": "code",
   "execution_count": 47,
   "metadata": {},
   "outputs": [
    {
     "name": "stdout",
     "output_type": "stream",
     "text": [
      "The Train MSE with 1 degree is: 5339.13205212213\n",
      "The Test MSE with 1 degree is: 6455.708453830031\n"
     ]
    }
   ],
   "source": [
    "# 1st degree\n",
    "# Create and fit training model\n",
    "reg_train = linear_model.LinearRegression()\n",
    "model_train = reg_train.fit(x_train, y_train)\n",
    "\n",
    "# Evaluate the test set\n",
    "pred_train = model_train.predict(x_train)\n",
    "pred_test = model_train.predict(x_test)\n",
    "train_rmse = mean_squared_error(y_train, pred_train)\n",
    "test_rmse = mean_squared_error(y_test, pred_test)\n",
    "\n",
    "print \"The Train MSE with 1 degree is: \" + str(train_rmse)\n",
    "print \"The Test MSE with 1 degree is: \" + str(test_rmse)"
   ]
  },
  {
   "cell_type": "code",
   "execution_count": 48,
   "metadata": {},
   "outputs": [
    {
     "name": "stdout",
     "output_type": "stream",
     "text": [
      "The Train MSE with 2 degrees is: 3638.12177725299\n",
      "The Test MSE with 2 degrees is: 4683.309906329018\n"
     ]
    }
   ],
   "source": [
    "# 2 Degrees\n",
    "\n",
    "poly_2 = PolynomialFeatures(degree=2)\n",
    "x_2 = poly_2.fit_transform(x_train)\n",
    "x_2_test = poly_2.fit_transform(x_test)\n",
    "\n",
    "reg_2 = linear_model.LinearRegression()\n",
    "model_2 = reg_2.fit(x_2, y_train)\n",
    "\n",
    "pred_2 = model_2.predict(x_2)\n",
    "pred_2_test = model_2.predict(x_2_test)\n",
    "\n",
    "train_rmse_2 = mean_squared_error(y_train, pred_2)\n",
    "test_rmse_2 = mean_squared_error(y_test, pred_2_test)\n",
    "\n",
    "print \"The Train MSE with 2 degrees is: \" + str(train_rmse_2)\n",
    "print \"The Test MSE with 2 degrees is: \" + str(test_rmse_2)"
   ]
  },
  {
   "cell_type": "code",
   "execution_count": 49,
   "metadata": {},
   "outputs": [
    {
     "name": "stdout",
     "output_type": "stream",
     "text": [
      "The Train MSE with 3 degrees is: 3569.9003663071185\n",
      "The Test MSE with 3 degrees is: 4602.202716053174\n"
     ]
    }
   ],
   "source": [
    "# 3 Degrees\n",
    "poly_3 = PolynomialFeatures(degree=3)\n",
    "x_3 = poly_3.fit_transform(x_train)\n",
    "x_3_test = poly_3.fit_transform(x_test)\n",
    "\n",
    "reg_3 = linear_model.LinearRegression()\n",
    "model_3 = reg_3.fit(x_3, y_train)\n",
    "\n",
    "pred_3 = model_3.predict(x_3)\n",
    "pred_3_test = model_3.predict(x_3_test)\n",
    "train_rmse_3 = mean_squared_error(y_train, pred_3)\n",
    "test_rmse_3 = mean_squared_error(y_test, pred_3_test)\n",
    "\n",
    "print \"The Train MSE with 3 degrees is: \" + str(train_rmse_3)\n",
    "print \"The Test MSE with 3 degrees is: \" + str(test_rmse_3)"
   ]
  },
  {
   "cell_type": "code",
   "execution_count": 50,
   "metadata": {},
   "outputs": [
    {
     "name": "stdout",
     "output_type": "stream",
     "text": [
      "The Train MSE with 5 degrees is: 2661.566074438367\n",
      "The Test MSE with 5 degrees is: 6599.133603518136\n"
     ]
    }
   ],
   "source": [
    "# 5 Degrees\n",
    "poly_5 = PolynomialFeatures(degree=5)\n",
    "x_5 = poly_5.fit_transform(x_train)\n",
    "x_5_test = poly_5.fit_transform(x_test)\n",
    "\n",
    "reg_5 = linear_model.LinearRegression()\n",
    "model_5 = reg_5.fit(x_5, y_train)\n",
    "\n",
    "pred_5 = model_5.predict(x_5)\n",
    "pred_5_test = model_5.predict(x_5_test)\n",
    "train_rmse_5 = mean_squared_error(y_train, pred_5)\n",
    "test_rmse_5 = mean_squared_error(y_test, pred_5_test)\n",
    "\n",
    "print \"The Train MSE with 5 degrees is: \" + str(train_rmse_5)\n",
    "print \"The Test MSE with 5 degrees is: \" + str(test_rmse_5)"
   ]
  },
  {
   "cell_type": "code",
   "execution_count": 51,
   "metadata": {},
   "outputs": [
    {
     "data": {
      "text/plain": [
       "<matplotlib.legend.Legend at 0x1c30c3e210>"
      ]
     },
     "execution_count": 51,
     "metadata": {},
     "output_type": "execute_result"
    },
    {
     "data": {
      "image/png": "[encoded data removed]",
      "text/plain": [
       "<Figure size 1152x288 with 2 Axes>"
      ]
     },
     "metadata": {},
     "output_type": "display_data"
    },
    {
     "data": {
      "image/png": "[encoded data removed]",
      "text/plain": [
       "<Figure size 1152x288 with 2 Axes>"
      ]
     },
     "metadata": {},
     "output_type": "display_data"
    }
   ],
   "source": [
    "from sklearn.pipeline import make_pipeline\n",
    "from sklearn.linear_model import LinearRegression\n",
    "#xfit = np.linspace(0, 100, 10000)\n",
    "#reg_2.fit(x_2.reshape(-1,1), y_train)\n",
    "#yfit_2 = reg_2.predict(xfit.reshape(-1,1))\n",
    "\n",
    "\n",
    "\n",
    "fig, (ax1, ax2) = subplots(nrows=1,\n",
    "                                ncols=2,\n",
    "                                sharey=True,\n",
    "                                figsize=(16,4))\n",
    "ax1.scatter(x_train, y_train, c = 'b', label = 'training data')\n",
    "ax1.scatter(x_test, y_test, c = 'r', label = 'test data')\n",
    "ax1.scatter(x_test, pred_test, c = 'g', label = 'predictions')\n",
    "ax1.plot(x_train, pred_train, color='black', label='Regression')\n",
    "\n",
    "ax1.set_xlabel('x-values')\n",
    "ax1.set_ylabel('y-values')\n",
    "ax1.set_title('Train, Test, and Predicted Data - 1 Degree')\n",
    "ax1.legend()\n",
    "\n",
    "model = make_pipeline(PolynomialFeatures(2), LinearRegression())\n",
    "model.fit(np.array(x_train).reshape(-1, 1), y_train)\n",
    "x_reg2 = np.arange(111)\n",
    "y_reg2 = model.predict(x_reg2.reshape(-1, 1))\n",
    "\n",
    "ax2.scatter(x_train, y_train, c = 'b', label = 'training data')\n",
    "ax2.scatter(x_test, y_test, c = 'r', label = 'test data')\n",
    "ax2.scatter(x_test, pred_2_test, c = 'g', label = 'predictions')\n",
    "ax2.plot(x_reg2, y_reg2, color = 'black', label = 'Regression')\n",
    "\n",
    "ax2.set_xlabel('x-values')\n",
    "ax2.set_ylabel('y-values')\n",
    "ax2.set_title('Train, Test, and Predicted Data - 2 Degrees')\n",
    "ax2.legend()\n",
    "\n",
    "fig, (ax3, ax4) = subplots(nrows=1,\n",
    "                                ncols=2,\n",
    "                                sharey=True,\n",
    "                                figsize=(16,4))\n",
    "\n",
    "model = make_pipeline(PolynomialFeatures(3), LinearRegression())\n",
    "model.fit(np.array(x_train).reshape(-1, 1), y_train)\n",
    "x_reg3 = np.arange(111)\n",
    "y_reg3 = model.predict(x_reg3.reshape(-1, 1))\n",
    "\n",
    "ax3.scatter(x_train, y_train, c = 'b', label = 'training data')\n",
    "ax3.scatter(x_test, y_test, c = 'r', label = 'test data')\n",
    "ax3.scatter(x_test, pred_3_test, c = 'g', label = 'predictions')\n",
    "ax3.plot(x_reg3, y_reg3, color = 'black', label = 'Regression')\n",
    "\n",
    "ax3.set_xlabel('x-values')\n",
    "ax3.set_ylabel('y-values')\n",
    "ax3.set_title('Train, Test, and Predicted Data - 3 Degrees')\n",
    "ax3.legend()\n",
    "\n",
    "model = make_pipeline(PolynomialFeatures(5), LinearRegression())\n",
    "model.fit(np.array(x_train).reshape(-1, 1), y_train)\n",
    "x_reg5 = np.arange(111)\n",
    "y_reg5 = model.predict(x_reg5.reshape(-1, 1))\n",
    "\n",
    "ax4.scatter(x_train, y_train, c = 'b', label = 'training data')\n",
    "ax4.scatter(x_test, y_test, c = 'r', label = 'test data')\n",
    "ax4.scatter(x_test, pred_5_test, c = 'g', label = 'predictions')\n",
    "ax4.plot(x_reg5, y_reg5, color = 'black', label = 'Regression')\n",
    "\n",
    "ax4.set_xlabel('x-values')\n",
    "ax4.set_ylabel('y-values')\n",
    "ax4.set_title('Train, Test, and Predicted Data - 5 Degrees')\n",
    "ax4.legend()\n"
   ]
  },
  {
   "cell_type": "markdown",
   "metadata": {},
   "source": [
    "#### (c) Which model performed the best? Explain using the bias-variance tradeoff."
   ]
  },
  {
   "cell_type": "markdown",
   "metadata": {},
   "source": [
    "The most effective model was the polynomial model of the third degree. It proved to be flexible enough to adapt to the slight curvature in the data, decreasing bias, but it did not chase the noise in the training data to the point that it would be negated by an increase in variance. Essentially, the model was not anchored to be purely linear, allowing it to adapt to any curvature in the data by being more flexible. This decreased biased by avoiding the presupposition that the model should be purely linear. At the same time, it avoided chasing the noise in the training data that would have increased variance in the result. The decrease in bias was much lower than any increase in variance in this particular model, resulting in a much lower mean squared error than the linear model or the polynomial model of the fifth degree."
   ]
  },
  {
   "cell_type": "markdown",
   "metadata": {},
   "source": [
    "# Question 1. Data Exploration (20pts)\n",
    "Use the following code to import the dataset."
   ]
  },
  {
   "cell_type": "code",
   "execution_count": 52,
   "metadata": {},
   "outputs": [],
   "source": [
    "import pandas as pd\n",
    "import matplotlib.pyplot as plt\n",
    "%matplotlib inline\n",
    "\n",
    "#read the data\n",
    "data = pd.read_csv('data_q1.csv', index_col=0)"
   ]
  },
  {
   "cell_type": "markdown",
   "metadata": {},
   "source": [
    "The columns are:\n",
    "  * TV: advertising dollars spent on TV for a single product (in thousands of dollars)\n",
    "  * Radio: advertising dollars spent on Radio\n",
    "  * Newspaper: advertising dollars spent on Newspaper\n",
    "  * Sales (dependent variable): sales of a single product in a given market (in thousands of widgets)\n",
    "\n",
    "We are interested in predicting sales based on the first three \"feature\" variables (TV, Radio and Newspaper)."
   ]
  },
  {
   "cell_type": "markdown",
   "metadata": {},
   "source": [
    "#### (a) Print the shape (number of rows and columns) of the data matrix , and show the first 5 rows."
   ]
  },
  {
   "cell_type": "code",
   "execution_count": 53,
   "metadata": {},
   "outputs": [
    {
     "name": "stdout",
     "output_type": "stream",
     "text": [
      "(200, 4)\n"
     ]
    },
    {
     "data": {
      "text/html": [
       "<div>\n",
       "<style scoped>\n",
       "    .dataframe tbody tr th:only-of-type {\n",
       "        vertical-align: middle;\n",
       "    }\n",
       "\n",
       "    .dataframe tbody tr th {\n",
       "        vertical-align: top;\n",
       "    }\n",
       "\n",
       "    .dataframe thead th {\n",
       "        text-align: right;\n",
       "    }\n",
       "</style>\n",
       "<table border=\"1\" class=\"dataframe\">\n",
       "  <thead>\n",
       "    <tr style=\"text-align: right;\">\n",
       "      <th></th>\n",
       "      <th>TV</th>\n",
       "      <th>Radio</th>\n",
       "      <th>Newspaper</th>\n",
       "      <th>Sales</th>\n",
       "    </tr>\n",
       "  </thead>\n",
       "  <tbody>\n",
       "    <tr>\n",
       "      <th>1</th>\n",
       "      <td>230.1</td>\n",
       "      <td>37.8</td>\n",
       "      <td>69.2</td>\n",
       "      <td>22.1</td>\n",
       "    </tr>\n",
       "    <tr>\n",
       "      <th>2</th>\n",
       "      <td>44.5</td>\n",
       "      <td>39.3</td>\n",
       "      <td>45.1</td>\n",
       "      <td>10.4</td>\n",
       "    </tr>\n",
       "    <tr>\n",
       "      <th>3</th>\n",
       "      <td>17.2</td>\n",
       "      <td>45.9</td>\n",
       "      <td>69.3</td>\n",
       "      <td>9.3</td>\n",
       "    </tr>\n",
       "    <tr>\n",
       "      <th>4</th>\n",
       "      <td>151.5</td>\n",
       "      <td>41.3</td>\n",
       "      <td>58.5</td>\n",
       "      <td>18.5</td>\n",
       "    </tr>\n",
       "    <tr>\n",
       "      <th>5</th>\n",
       "      <td>180.8</td>\n",
       "      <td>10.8</td>\n",
       "      <td>58.4</td>\n",
       "      <td>12.9</td>\n",
       "    </tr>\n",
       "  </tbody>\n",
       "</table>\n",
       "</div>"
      ],
      "text/plain": [
       "      TV  Radio  Newspaper  Sales\n",
       "1  230.1   37.8       69.2   22.1\n",
       "2   44.5   39.3       45.1   10.4\n",
       "3   17.2   45.9       69.3    9.3\n",
       "4  151.5   41.3       58.5   18.5\n",
       "5  180.8   10.8       58.4   12.9"
      ]
     },
     "execution_count": 53,
     "metadata": {},
     "output_type": "execute_result"
    }
   ],
   "source": [
    "print shape(data)\n",
    "data.head()"
   ]
  },
  {
   "cell_type": "markdown",
   "metadata": {},
   "source": [
    "#### (b) Generate box-plots for each of the four columns and identify the cutoff values for outliers."
   ]
  },
  {
   "cell_type": "code",
   "execution_count": 54,
   "metadata": {},
   "outputs": [
    {
     "data": {
      "text/plain": [
       "<matplotlib.axes._subplots.AxesSubplot at 0x1c30737090>"
      ]
     },
     "execution_count": 54,
     "metadata": {},
     "output_type": "execute_result"
    },
    {
     "data": {
      "image/png": "[encoded data removed]",
      "text/plain": [
       "<Figure size 432x288 with 1 Axes>"
      ]
     },
     "metadata": {},
     "output_type": "display_data"
    }
   ],
   "source": [
    "data.boxplot()"
   ]
  },
  {
   "cell_type": "code",
   "execution_count": 55,
   "metadata": {},
   "outputs": [
    {
     "name": "stdout",
     "output_type": "stream",
     "text": [
      "Cutoffs for TV: -142.3,  435.5\n",
      "Cutoffs for Radio: -29.85,  76.35\n",
      "Cutoffs for Newspaper: -35.775,  93.625\n",
      "Cutoffs for Sales: -0.1625,  27.9375\n"
     ]
    }
   ],
   "source": [
    "media = ['TV', 'Radio', 'Newspaper', 'Sales']\n",
    "\n",
    "for m in media:\n",
    "    upper_q = data[m].quantile(0.75)\n",
    "    lower_q = data[m].quantile(0.25)\n",
    "    iqr = upper_q - lower_q\n",
    "    upper_cut = upper_q + (1.5*(iqr))\n",
    "    lower_cut = lower_q - (1.5*(iqr))\n",
    "    print \"Cutoffs for \" + str(m) + \": \" + str(lower_cut) + \", \" + \" \" + str(upper_cut)"
   ]
  },
  {
   "cell_type": "markdown",
   "metadata": {},
   "source": [
    "#### (c) Visualize the relationship between the features and the response variable (Sales) using scatterplots. Comment on the fits."
   ]
  },
  {
   "cell_type": "code",
   "execution_count": 56,
   "metadata": {},
   "outputs": [
    {
     "data": {
      "text/plain": [
       "Text(0,0.5,'Sales')"
      ]
     },
     "execution_count": 56,
     "metadata": {},
     "output_type": "execute_result"
    },
    {
     "data": {
      "image/png": "[encoded data removed]",
      "text/plain": [
       "<Figure size 1152x288 with 3 Axes>"
      ]
     },
     "metadata": {},
     "output_type": "display_data"
    }
   ],
   "source": [
    "fig, (ax1, ax2, ax3) = subplots(nrows=1,\n",
    "                                ncols=3,\n",
    "                                sharey=True,\n",
    "                                figsize=(16,4))\n",
    "ax1.scatter(data.TV, data.Sales, color = 'blue')\n",
    "ax1.set_title('TV and Sales')\n",
    "ax1.set_xlabel('TV')\n",
    "ax1.set_ylabel('Sales')\n",
    "\n",
    "ax2.scatter(data.Radio, data.Sales, color = 'red')\n",
    "ax2.set_title('Radio and Sales')\n",
    "ax2.set_xlabel('Radio')\n",
    "ax2.set_ylabel('Sales')\n",
    "\n",
    "ax3.scatter(data.Newspaper, data.Sales, color = 'green')\n",
    "ax3.set_title('Newspaper and Sales')\n",
    "ax3.set_xlabel('Newspaper')\n",
    "ax3.set_ylabel('Sales')"
   ]
  },
  {
   "cell_type": "markdown",
   "metadata": {},
   "source": [
    "TV - TV appears to have the most directly, positive linear relationship on sales. However, it does begin to spread as the TV spend increases. This indicates that the predicted response is less reliable (higher variance) at higher levels of TV spend.\n",
    "\n",
    "Radio - Radio also appear linear, though less so than TV. There is a clear pattern trending positively, but higher variance throughout concentrated lower in the Y axis.\n",
    "\n",
    "Newspaper - There appears to be no clear correlation between Newspaper spend and Sales."
   ]
  },
  {
   "cell_type": "markdown",
   "metadata": {},
   "source": [
    "#### (d) Fit a simple linear regression of 'Sales' on 'TV'. What is the regression coefficient for 'TV'? What is its interpretation?"
   ]
  },
  {
   "cell_type": "code",
   "execution_count": 57,
   "metadata": {},
   "outputs": [
    {
     "name": "stdout",
     "output_type": "stream",
     "text": [
      "The regression coefficient for 'TV' is 0.047536640433019764\n"
     ]
    }
   ],
   "source": [
    "import statsmodels.api as sm\n",
    "from patsy import dmatrices\n",
    "\n",
    "# Create design matrices\n",
    "y_sales, x_tv = dmatrices('Sales ~ TV', data=data, return_type='dataframe')\n",
    "\n",
    "# Create and fit model\n",
    "model = sm.OLS(y_sales, x_tv)\n",
    "result = model.fit()  \n",
    "\n",
    "# Print coefficients\n",
    "print \"The regression coefficient for 'TV' is \" + str(result.params[1])"
   ]
  },
  {
   "cell_type": "markdown",
   "metadata": {},
   "source": [
    "The interpretation is that, all else constant, for each additional 1 unit (dollar?) of TV ad spend, you are predicted  to increase your sales by 0.0475 units (dollars)."
   ]
  },
  {
   "cell_type": "markdown",
   "metadata": {},
   "source": [
    "#### Now split the data randomly into a training and test set (keep one third of the data for test), using train_test_split from sklearn. Use test_size as 0.33 and random_state as 42."
   ]
  },
  {
   "cell_type": "code",
   "execution_count": 58,
   "metadata": {},
   "outputs": [],
   "source": [
    "from sklearn.cross_validation import train_test_split\n",
    "\n",
    "x = data.drop(['Sales'],axis=1)\n",
    "y = data['Sales']\n",
    "x_train, x_test, y_train, y_test = train_test_split(x,y,test_size = 0.33, random_state=42) "
   ]
  },
  {
   "cell_type": "markdown",
   "metadata": {},
   "source": [
    "#### (e) Fit an MLR on all the feature variables using the training data and evaluate the trained model on the test data using root mean squared error. (Sales is the dependent variable)"
   ]
  },
  {
   "cell_type": "code",
   "execution_count": 59,
   "metadata": {},
   "outputs": [
    {
     "name": "stdout",
     "output_type": "stream",
     "text": [
      "The Test RMSE is: 1.93078438223472\n"
     ]
    }
   ],
   "source": [
    "# Create and fit training model\n",
    "reg_train = linear_model.LinearRegression()\n",
    "model_train = reg_train.fit(x_train, y_train)\n",
    "\n",
    "# Evaluate the test set\n",
    "pred_test = model_train.predict(x_test)\n",
    "rmse_test = sqrt(mean_squared_error(y_test, pred_test))\n",
    "\n",
    "print \"The Test RMSE is: \" + str(rmse_test)"
   ]
  },
  {
   "cell_type": "markdown",
   "metadata": {},
   "source": [
    "#### (f) Report the MSE obtained on train data. How much does this increase when you score your model on test data?"
   ]
  },
  {
   "cell_type": "code",
   "execution_count": 60,
   "metadata": {},
   "outputs": [
    {
     "name": "stdout",
     "output_type": "stream",
     "text": [
      "The Train RMSE is: 1.5526939990087725\n",
      "Test RMSE is 0.37809038322594746 greater than Train RMSE.\n"
     ]
    }
   ],
   "source": [
    "pred_train = model_train.predict(x_train)\n",
    "rmse_train = sqrt(mean_squared_error(y_train, pred_train))\n",
    "\n",
    "print \"The Train RMSE is: \" + str(rmse_train)\n",
    "print \"Test RMSE is \" + str(rmse_test - rmse_train) + \" greater than Train RMSE.\""
   ]
  },
  {
   "cell_type": "markdown",
   "metadata": {},
   "source": [
    "#### (g) Report the coefficients obtained by your model."
   ]
  },
  {
   "cell_type": "code",
   "execution_count": 61,
   "metadata": {},
   "outputs": [
    {
     "name": "stdout",
     "output_type": "stream",
     "text": [
      "[('TV', 0.04466512063271282), ('Radio', 0.1966300628262483), ('Newspaper', 0.006074386547886876)]\n"
     ]
    }
   ],
   "source": [
    "model_train_features = ['TV', 'Radio', 'Newspaper']\n",
    "print(list(zip(model_train_features, model_train.coef_)))"
   ]
  },
  {
   "cell_type": "markdown",
   "metadata": {},
   "source": [
    "# Question 2. Regression (25pts)\n",
    "\n",
    "Use the following dataset for this question. Split the dataset into train and test set(already done for you.)\n"
   ]
  },
  {
   "cell_type": "code",
   "execution_count": 62,
   "metadata": {},
   "outputs": [],
   "source": [
    "import pandas as pd\n",
    "from sklearn import datasets\n",
    "diabetes = datasets.load_diabetes()\n",
    "\n",
    "X = diabetes.data\n",
    "Y = diabetes.target"
   ]
  },
  {
   "cell_type": "code",
   "execution_count": 63,
   "metadata": {},
   "outputs": [],
   "source": [
    "from sklearn.cross_validation import train_test_split\n",
    "X_train, X_test, y_train, y_test = train_test_split(X,Y,test_size = 0.33, random_state=10) "
   ]
  },
  {
   "cell_type": "markdown",
   "metadata": {},
   "source": [
    "#### a) Fit an MLR, using ordinary least squares, on all the feature variables using the training data. Report the RMSE obtained on both X_train and X_test. How much does this increase when you score your model on X_test?"
   ]
  },
  {
   "cell_type": "code",
   "execution_count": 64,
   "metadata": {},
   "outputs": [
    {
     "name": "stdout",
     "output_type": "stream",
     "text": [
      "The Train MAE is: 52.007732294217874\n",
      "The Test MAE is: 57.428059772853565\n",
      "RMSE increases by 5.420327478635691 when scoring our model on test data.\n"
     ]
    }
   ],
   "source": [
    "# Create and fit training model\n",
    "reg_train = linear_model.LinearRegression()\n",
    "model_train = reg_train.fit(X_train, y_train)\n",
    "\n",
    "# Evaluate the training set\n",
    "pred_train = model_train.predict(X_train)\n",
    "rmse_train = sqrt(mean_squared_error(y_train, pred_train))\n",
    "\n",
    "print \"The Train MAE is: \" + str(rmse_train)\n",
    "\n",
    "# Evaluate the test set\n",
    "pred_test = model_train.predict(X_test)\n",
    "rmse_test = sqrt(mean_squared_error(y_test, pred_test))\n",
    "\n",
    "print \"The Test MAE is: \" + str(rmse_test)\n",
    "\n",
    "print \"RMSE increases by \" + str(rmse_test - rmse_train) + \" when scoring our model on test data.\""
   ]
  },
  {
   "cell_type": "markdown",
   "metadata": {},
   "source": [
    "#### b) Now fit the regression model using Huber loss. You can use the sklearn package. Set regularization parameter alpha to 0.0 and all other parameters as default. Report RMSE obtained on both X_train and X_test."
   ]
  },
  {
   "cell_type": "code",
   "execution_count": 65,
   "metadata": {},
   "outputs": [
    {
     "name": "stdout",
     "output_type": "stream",
     "text": [
      "The Train MAE is: 52.167114519625\n",
      "The Test RMSE is: 57.163266011285316\n"
     ]
    }
   ],
   "source": [
    "huber = linear_model.HuberRegressor(alpha = 0)\n",
    "huber_train = huber.fit(X_train,y_train)\n",
    "\n",
    "huber_train_pred = huber_train.predict(X_train)\n",
    "rmse_huber_train = sqrt(mean_squared_error(y_train, huber_train_pred))\n",
    "\n",
    "print \"The Train MAE is: \" + str(rmse_huber_train)\n",
    "\n",
    "huber_test_pred = huber_train.predict(X_test)\n",
    "rmse_huber_test = sqrt(mean_squared_error(y_test, huber_test_pred))\n",
    "\n",
    "print \"The Test RMSE is: \" + str(rmse_huber_test)"
   ]
  },
  {
   "cell_type": "markdown",
   "metadata": {},
   "source": [
    "#### Now we will introduce outlier in the training set and train our model to see how the model performs. (Code provided)\n",
    "\n",
    "#### c) Fit the MLR model on X_train and y_train_outlier and calculate the RMSE on train and test set."
   ]
  },
  {
   "cell_type": "code",
   "execution_count": 66,
   "metadata": {},
   "outputs": [],
   "source": [
    "y_train_outliers = np.copy(y_train)\n",
    "y_train_outliers[0] = 5000.0"
   ]
  },
  {
   "cell_type": "code",
   "execution_count": 67,
   "metadata": {},
   "outputs": [
    {
     "name": "stdout",
     "output_type": "stream",
     "text": [
      "The Train MAE is: 286.2641030656008\n",
      "The Test MAE is: 82.21820407137496\n"
     ]
    }
   ],
   "source": [
    "# Create and fit training model\n",
    "reg_train2 = linear_model.LinearRegression()\n",
    "model_train2 = reg_train2.fit(X_train, y_train_outliers)\n",
    "\n",
    "# Evaluate the training set\n",
    "pred_train2 = model_train2.predict(X_train)\n",
    "rmse_train2 = sqrt(mean_squared_error(y_train_outliers, pred_train2))\n",
    "\n",
    "print \"The Train MAE is: \" + str(rmse_train2)\n",
    "\n",
    "# Evaluate the test set\n",
    "pred_test2 = model_train2.predict(X_test)\n",
    "rmse_test2 = sqrt(mean_squared_error(y_test, pred_test2))\n",
    "\n",
    "print \"The Test MAE is: \" + str(rmse_test2)"
   ]
  },
  {
   "cell_type": "markdown",
   "metadata": {},
   "source": [
    "#### d) Fit the regression model with Huber loss on X_train and y_train_outier. Calculate the RMSE on train and test set. Compare the RMSE of both the models."
   ]
  },
  {
   "cell_type": "code",
   "execution_count": 68,
   "metadata": {},
   "outputs": [
    {
     "name": "stdout",
     "output_type": "stream",
     "text": [
      "The Train MAE is: 290.22226498624167\n",
      "The Test RMSE is: 57.56710215190541\n"
     ]
    }
   ],
   "source": [
    "huber2 = linear_model.HuberRegressor(alpha = 0)\n",
    "huber_train2 = huber2.fit(X_train,y_train_outliers)\n",
    "\n",
    "huber_train_pred2 = huber_train2.predict(X_train)\n",
    "rmse_huber_train2 = sqrt(mean_squared_error(y_train_outliers, huber_train_pred2))\n",
    "\n",
    "print \"The Train MAE is: \" + str(rmse_huber_train2)\n",
    "\n",
    "huber_test_pred2 = huber_train2.predict(X_test)\n",
    "rmse_huber_test2 = sqrt(mean_squared_error(y_test, huber_test_pred2))\n",
    "\n",
    "print \"The Test RMSE is: \" + str(rmse_huber_test2)"
   ]
  },
  {
   "cell_type": "markdown",
   "metadata": {},
   "source": [
    "#### e) Calculate the residuals on the test set for both the models obtained in (c) and (d). Plot the scatter plot of residual vs fitted value for both the models. What do you observe? Which model looks better?"
   ]
  },
  {
   "cell_type": "code",
   "execution_count": 69,
   "metadata": {},
   "outputs": [
    {
     "data": {
      "text/plain": [
       "Text(0.5,1,'Residual vs Fitted Plot - Robust Regression with Huber Loss')"
      ]
     },
     "execution_count": 69,
     "metadata": {},
     "output_type": "execute_result"
    },
    {
     "data": {
      "image/png": "[encoded data removed]",
      "text/plain": [
       "<Figure size 864x288 with 2 Axes>"
      ]
     },
     "metadata": {},
     "output_type": "display_data"
    }
   ],
   "source": [
    "residuals_mlr = y_test - pred_test2\n",
    "residuals_huber = y_test - huber_test_pred2\n",
    "\n",
    "fig, (ax1, ax2) = subplots(nrows=1,\n",
    "                                ncols=2,\n",
    "                                figsize=(12,4))\n",
    "ax1.scatter(pred_test2, residuals_mlr)\n",
    "ax1.hlines(y=0,xmin=0,xmax=400)\n",
    "ax1.set_xlabel('fitted values')\n",
    "ax1.set_ylabel('residuals')\n",
    "ax1.set_title('Residual vs Fitted Plot - OLS Regression')\n",
    "\n",
    "ax2.scatter(huber_test_pred2, residuals_huber)\n",
    "ax2.hlines(y=0,xmin=0,xmax=400)\n",
    "ax2.set_xlabel('fitted values')\n",
    "ax2.set_ylabel('residuals')\n",
    "ax2.set_title('Residual vs Fitted Plot - Robust Regression with Huber Loss')"
   ]
  },
  {
   "cell_type": "markdown",
   "metadata": {},
   "source": [
    "There is a clear linear relationship between residuals and fitted values in the OLS Regression plot. This indicates that there is some error in the model that we can improve on. Knowing what we are working with, we can assume that the outlier is too strongly influencing the model. This is causing us to overestimate for smaller values and underestimate for larger values.\n",
    "\n",
    "Improvement can be observed in the Huber plot. While still generally linear in its distribution, the data points are more spread and varied. The outlier is still influencing the model, but it's effect has been diminished. "
   ]
  },
  {
   "cell_type": "markdown",
   "metadata": {},
   "source": [
    "#### Now we will do feature selection. The features of X matrix are named as x1,x2,.... . We have created a list feature_name which stores the feature name (Code provided). So x1 means the first column of X, x2 means the second column of X and so on.\n",
    "\n",
    "#### f) Backward Selection: Find the three most significant factors using backward feature selection. You may find this link to be helpful: http://scikit-learn.org/stable/modules/generated/sklearn.feature_selection.RFE.html. Use X_train and y_train for your model."
   ]
  },
  {
   "cell_type": "code",
   "execution_count": 70,
   "metadata": {},
   "outputs": [
    {
     "name": "stdout",
     "output_type": "stream",
     "text": [
      "['x1', 'x2', 'x3', 'x4', 'x5', 'x6', 'x7', 'x8', 'x9', 'x10']\n"
     ]
    }
   ],
   "source": [
    "feature_name = ['x'+str(i) for i in range(1,11)]\n",
    "print(feature_name)"
   ]
  },
  {
   "cell_type": "code",
   "execution_count": 71,
   "metadata": {},
   "outputs": [
    {
     "name": "stdout",
     "output_type": "stream",
     "text": [
      "[8 6 1 2 1 5 4 3 1 7]\n",
      "The three most significant features with backward selection are x3, x5, and x9\n"
     ]
    }
   ],
   "source": [
    "# Create and fit training model\n",
    "back = RFE(reg_train2, n_features_to_select=3)\n",
    "model_back = back.fit(X_train, y_train)\n",
    "\n",
    "print model_back.ranking_\n",
    "print \"The three most significant features with backward selection are x3, x5, and x9\""
   ]
  },
  {
   "cell_type": "markdown",
   "metadata": {},
   "source": [
    "#### g) Forward Selection: Find the three most significant feature using forward selection. Check if it is same as the ones you got in part (f). Use X_train and y_train for your model. Hint : Use a for loop to implement forward feature selection"
   ]
  },
  {
   "cell_type": "code",
   "execution_count": 72,
   "metadata": {},
   "outputs": [
    {
     "name": "stdout",
     "output_type": "stream",
     "text": [
      "(2, 3, 8)\n",
      "The three most significant features with forward selection are x2, x3, and x8\n"
     ]
    }
   ],
   "source": [
    "from mlxtend.feature_selection import SequentialFeatureSelector as SFS\n",
    "\n",
    "lr = linear_model.LinearRegression()\n",
    "\n",
    "forward = SFS(lr, \n",
    "          k_features=3, \n",
    "          forward=True, \n",
    "          floating=False,\n",
    "          scoring = 'mean_squared_error')\n",
    "\n",
    "model_forward = forward.fit(X_train, y_train)\n",
    "print model_forward.k_feature_idx_\n",
    "print \"The three most significant features with forward selection are x2, x3, and x8\" "
   ]
  },
  {
   "cell_type": "markdown",
   "metadata": {},
   "source": [
    "# Question 3. Sampling (5pts)\n",
    "\n",
    "A recent survey estimated that $30\\%$ of all Europeans aged 20 to 22 have driven under the influence of drugs or alcohol, based on a simple \"Yes or No\" question. A similar survey is being planned for Americans. The survey designers want the  $90\\%$ confidence interval to have a margin of error of at most $\\pm0.09$.\n",
    "\n",
    "\n",
    "\n",
    "## Answer"
   ]
  },
  {
   "cell_type": "markdown",
   "metadata": {},
   "source": [
    "#### (a) Find the necessary sample size needed to conduct this survey assuming that the expected percentage of \"yes\" answers will be very close to that obtained from the European survey?"
   ]
  },
  {
   "cell_type": "code",
   "execution_count": 73,
   "metadata": {},
   "outputs": [
    {
     "name": "stdout",
     "output_type": "stream",
     "text": [
      "71 survey participants are needed.\n"
     ]
    }
   ],
   "source": [
    "n = (.3*(1-.3))/np.square(0.09/1.645)\n",
    "\n",
    "print str(int(n+1)) + \" survey participants are needed.\""
   ]
  },
  {
   "cell_type": "markdown",
   "metadata": {},
   "source": [
    "#### (b) Suppose the tolerance level was kept the same but the confidence level needs to increase to $95\\%$. What is the required sample size for this new specification?"
   ]
  },
  {
   "cell_type": "code",
   "execution_count": 74,
   "metadata": {},
   "outputs": [
    {
     "name": "stdout",
     "output_type": "stream",
     "text": [
      "100 survey participants are needed.\n"
     ]
    }
   ],
   "source": [
    "n2 = (.3*(1-.3))/np.square(0.09/1.96)\n",
    "\n",
    "print str(int(n2+1)) + \" survey participants are needed.\""
   ]
  },
  {
   "cell_type": "markdown",
   "metadata": {},
   "source": [
    "#### (c) If one does not know where the true \"$p$\" may lie, one can conservatively conduct a survey assuming the worst case (in terms of required minimum sample size)  scenario of  $p = 0.5$. Redo part (b) for this \"worst case\" scenario."
   ]
  },
  {
   "cell_type": "code",
   "execution_count": 75,
   "metadata": {},
   "outputs": [
    {
     "name": "stdout",
     "output_type": "stream",
     "text": [
      "119 survey participants are needed.\n"
     ]
    }
   ],
   "source": [
    "n3 = (.5*(1-.5))/np.square(0.09/1.96)\n",
    "\n",
    "print str(int(n3+1)) + \" survey participants are needed.\""
   ]
  },
  {
   "cell_type": "markdown",
   "metadata": {},
   "source": [
    "# Question 4. Principal Component Analysis (10pts)\n",
    "\n",
    "Use the following code to read in data of US Imports."
   ]
  },
  {
   "cell_type": "code",
   "execution_count": 76,
   "metadata": {},
   "outputs": [
    {
     "data": {
      "text/html": [
       "<div>\n",
       "<style scoped>\n",
       "    .dataframe tbody tr th:only-of-type {\n",
       "        vertical-align: middle;\n",
       "    }\n",
       "\n",
       "    .dataframe tbody tr th {\n",
       "        vertical-align: top;\n",
       "    }\n",
       "\n",
       "    .dataframe thead th {\n",
       "        text-align: right;\n",
       "    }\n",
       "</style>\n",
       "<table border=\"1\" class=\"dataframe\">\n",
       "  <thead>\n",
       "    <tr style=\"text-align: right;\">\n",
       "      <th></th>\n",
       "      <th>Agricultural machinery, equipment</th>\n",
       "      <th>Alcoholic beverages, excluding wine</th>\n",
       "      <th>Apparel, household goods - cotton</th>\n",
       "      <th>Apparel, household goods - wool</th>\n",
       "      <th>Apparel, textiles, nonwool or cotton</th>\n",
       "      <th>Apparel,household goods-nontextile</th>\n",
       "      <th>Artwork, antiques, stamps, etc.</th>\n",
       "      <th>Automotive tires and tubes</th>\n",
       "      <th>Bakery products</th>\n",
       "      <th>Bauxite and aluminum</th>\n",
       "      <th>...</th>\n",
       "      <th>Toiletries and cosmetics</th>\n",
       "      <th>Toys, games, and sporting goods</th>\n",
       "      <th>Trucks, buses, and special purpose vehicles</th>\n",
       "      <th>U.S. goods returned, and reimports</th>\n",
       "      <th>Vegetables</th>\n",
       "      <th>Vessels, except scrap</th>\n",
       "      <th>Wine, beer, and related products</th>\n",
       "      <th>Wood, glass, plastic</th>\n",
       "      <th>Wool, silk, etc.</th>\n",
       "      <th>Zinc</th>\n",
       "    </tr>\n",
       "    <tr>\n",
       "      <th>Country</th>\n",
       "      <th></th>\n",
       "      <th></th>\n",
       "      <th></th>\n",
       "      <th></th>\n",
       "      <th></th>\n",
       "      <th></th>\n",
       "      <th></th>\n",
       "      <th></th>\n",
       "      <th></th>\n",
       "      <th></th>\n",
       "      <th></th>\n",
       "      <th></th>\n",
       "      <th></th>\n",
       "      <th></th>\n",
       "      <th></th>\n",
       "      <th></th>\n",
       "      <th></th>\n",
       "      <th></th>\n",
       "      <th></th>\n",
       "      <th></th>\n",
       "      <th></th>\n",
       "    </tr>\n",
       "  </thead>\n",
       "  <tbody>\n",
       "    <tr>\n",
       "      <th>Afghanistan</th>\n",
       "      <td>3105.0</td>\n",
       "      <td>0.0</td>\n",
       "      <td>10739.0</td>\n",
       "      <td>7314.0</td>\n",
       "      <td>11942.0</td>\n",
       "      <td>2720.0</td>\n",
       "      <td>402303.0</td>\n",
       "      <td>0.0</td>\n",
       "      <td>12081.0</td>\n",
       "      <td>0.0</td>\n",
       "      <td>...</td>\n",
       "      <td>0.0</td>\n",
       "      <td>0.0</td>\n",
       "      <td>0.0</td>\n",
       "      <td>6156613.0</td>\n",
       "      <td>25873.0</td>\n",
       "      <td>0.0</td>\n",
       "      <td>61741.0</td>\n",
       "      <td>8474.0</td>\n",
       "      <td>3350.0</td>\n",
       "      <td>0.0</td>\n",
       "    </tr>\n",
       "    <tr>\n",
       "      <th>Albania</th>\n",
       "      <td>0.0</td>\n",
       "      <td>34741.0</td>\n",
       "      <td>2752171.0</td>\n",
       "      <td>50838.0</td>\n",
       "      <td>1298224.0</td>\n",
       "      <td>889107.0</td>\n",
       "      <td>286011.0</td>\n",
       "      <td>0.0</td>\n",
       "      <td>0.0</td>\n",
       "      <td>182556.0</td>\n",
       "      <td>...</td>\n",
       "      <td>4446.0</td>\n",
       "      <td>0.0</td>\n",
       "      <td>0.0</td>\n",
       "      <td>66682.0</td>\n",
       "      <td>519964.0</td>\n",
       "      <td>0.0</td>\n",
       "      <td>14112.0</td>\n",
       "      <td>0.0</td>\n",
       "      <td>0.0</td>\n",
       "      <td>0.0</td>\n",
       "    </tr>\n",
       "    <tr>\n",
       "      <th>Algeria</th>\n",
       "      <td>0.0</td>\n",
       "      <td>0.0</td>\n",
       "      <td>0.0</td>\n",
       "      <td>0.0</td>\n",
       "      <td>0.0</td>\n",
       "      <td>0.0</td>\n",
       "      <td>20217.0</td>\n",
       "      <td>0.0</td>\n",
       "      <td>0.0</td>\n",
       "      <td>0.0</td>\n",
       "      <td>...</td>\n",
       "      <td>22947.0</td>\n",
       "      <td>0.0</td>\n",
       "      <td>0.0</td>\n",
       "      <td>29474254.0</td>\n",
       "      <td>0.0</td>\n",
       "      <td>0.0</td>\n",
       "      <td>0.0</td>\n",
       "      <td>0.0</td>\n",
       "      <td>0.0</td>\n",
       "      <td>0.0</td>\n",
       "    </tr>\n",
       "    <tr>\n",
       "      <th>Andorra</th>\n",
       "      <td>0.0</td>\n",
       "      <td>0.0</td>\n",
       "      <td>351.0</td>\n",
       "      <td>0.0</td>\n",
       "      <td>0.0</td>\n",
       "      <td>3683.0</td>\n",
       "      <td>0.0</td>\n",
       "      <td>0.0</td>\n",
       "      <td>0.0</td>\n",
       "      <td>4741.0</td>\n",
       "      <td>...</td>\n",
       "      <td>0.0</td>\n",
       "      <td>0.0</td>\n",
       "      <td>0.0</td>\n",
       "      <td>67589.0</td>\n",
       "      <td>0.0</td>\n",
       "      <td>0.0</td>\n",
       "      <td>0.0</td>\n",
       "      <td>0.0</td>\n",
       "      <td>0.0</td>\n",
       "      <td>0.0</td>\n",
       "    </tr>\n",
       "    <tr>\n",
       "      <th>Angola</th>\n",
       "      <td>0.0</td>\n",
       "      <td>24505.0</td>\n",
       "      <td>0.0</td>\n",
       "      <td>0.0</td>\n",
       "      <td>0.0</td>\n",
       "      <td>0.0</td>\n",
       "      <td>6412.0</td>\n",
       "      <td>0.0</td>\n",
       "      <td>0.0</td>\n",
       "      <td>0.0</td>\n",
       "      <td>...</td>\n",
       "      <td>0.0</td>\n",
       "      <td>0.0</td>\n",
       "      <td>0.0</td>\n",
       "      <td>2992.0</td>\n",
       "      <td>0.0</td>\n",
       "      <td>0.0</td>\n",
       "      <td>0.0</td>\n",
       "      <td>0.0</td>\n",
       "      <td>0.0</td>\n",
       "      <td>0.0</td>\n",
       "    </tr>\n",
       "  </tbody>\n",
       "</table>\n",
       "<p>5 rows × 142 columns</p>\n",
       "</div>"
      ],
      "text/plain": [
       "             Agricultural machinery, equipment  \\\n",
       "Country                                          \n",
       "Afghanistan                             3105.0   \n",
       "Albania                                    0.0   \n",
       "Algeria                                    0.0   \n",
       "Andorra                                    0.0   \n",
       "Angola                                     0.0   \n",
       "\n",
       "             Alcoholic beverages, excluding wine  \\\n",
       "Country                                            \n",
       "Afghanistan                                  0.0   \n",
       "Albania                                  34741.0   \n",
       "Algeria                                      0.0   \n",
       "Andorra                                      0.0   \n",
       "Angola                                   24505.0   \n",
       "\n",
       "             Apparel, household goods - cotton  \\\n",
       "Country                                          \n",
       "Afghanistan                            10739.0   \n",
       "Albania                              2752171.0   \n",
       "Algeria                                    0.0   \n",
       "Andorra                                  351.0   \n",
       "Angola                                     0.0   \n",
       "\n",
       "             Apparel, household goods - wool  \\\n",
       "Country                                        \n",
       "Afghanistan                           7314.0   \n",
       "Albania                              50838.0   \n",
       "Algeria                                  0.0   \n",
       "Andorra                                  0.0   \n",
       "Angola                                   0.0   \n",
       "\n",
       "             Apparel, textiles, nonwool or cotton  \\\n",
       "Country                                             \n",
       "Afghanistan                               11942.0   \n",
       "Albania                                 1298224.0   \n",
       "Algeria                                       0.0   \n",
       "Andorra                                       0.0   \n",
       "Angola                                        0.0   \n",
       "\n",
       "             Apparel,household goods-nontextile  \\\n",
       "Country                                           \n",
       "Afghanistan                              2720.0   \n",
       "Albania                                889107.0   \n",
       "Algeria                                     0.0   \n",
       "Andorra                                  3683.0   \n",
       "Angola                                      0.0   \n",
       "\n",
       "             Artwork, antiques, stamps, etc.  Automotive tires and tubes  \\\n",
       "Country                                                                    \n",
       "Afghanistan                         402303.0                         0.0   \n",
       "Albania                             286011.0                         0.0   \n",
       "Algeria                              20217.0                         0.0   \n",
       "Andorra                                  0.0                         0.0   \n",
       "Angola                                6412.0                         0.0   \n",
       "\n",
       "             Bakery products  Bauxite and aluminum  ...   \\\n",
       "Country                                             ...    \n",
       "Afghanistan          12081.0                   0.0  ...    \n",
       "Albania                  0.0              182556.0  ...    \n",
       "Algeria                  0.0                   0.0  ...    \n",
       "Andorra                  0.0                4741.0  ...    \n",
       "Angola                   0.0                   0.0  ...    \n",
       "\n",
       "             Toiletries and cosmetics  Toys, games, and sporting goods  \\\n",
       "Country                                                                  \n",
       "Afghanistan                       0.0                              0.0   \n",
       "Albania                        4446.0                              0.0   \n",
       "Algeria                       22947.0                              0.0   \n",
       "Andorra                           0.0                              0.0   \n",
       "Angola                            0.0                              0.0   \n",
       "\n",
       "             Trucks, buses, and special purpose vehicles  \\\n",
       "Country                                                    \n",
       "Afghanistan                                          0.0   \n",
       "Albania                                              0.0   \n",
       "Algeria                                              0.0   \n",
       "Andorra                                              0.0   \n",
       "Angola                                               0.0   \n",
       "\n",
       "             U.S. goods returned, and reimports  Vegetables  \\\n",
       "Country                                                       \n",
       "Afghanistan                           6156613.0     25873.0   \n",
       "Albania                                 66682.0    519964.0   \n",
       "Algeria                              29474254.0         0.0   \n",
       "Andorra                                 67589.0         0.0   \n",
       "Angola                                   2992.0         0.0   \n",
       "\n",
       "             Vessels, except scrap  Wine, beer, and related products  \\\n",
       "Country                                                                \n",
       "Afghanistan                    0.0                           61741.0   \n",
       "Albania                        0.0                           14112.0   \n",
       "Algeria                        0.0                               0.0   \n",
       "Andorra                        0.0                               0.0   \n",
       "Angola                         0.0                               0.0   \n",
       "\n",
       "             Wood, glass, plastic  Wool, silk, etc.  Zinc  \n",
       "Country                                                    \n",
       "Afghanistan                8474.0            3350.0   0.0  \n",
       "Albania                       0.0               0.0   0.0  \n",
       "Algeria                       0.0               0.0   0.0  \n",
       "Andorra                       0.0               0.0   0.0  \n",
       "Angola                        0.0               0.0   0.0  \n",
       "\n",
       "[5 rows x 142 columns]"
      ]
     },
     "execution_count": 76,
     "metadata": {},
     "output_type": "execute_result"
    }
   ],
   "source": [
    "df = pd.read_csv('data_q4.csv', index_col=0)\n",
    "df.head()"
   ]
  },
  {
   "cell_type": "code",
   "execution_count": 77,
   "metadata": {},
   "outputs": [],
   "source": [
    "from sklearn.preprocessing import StandardScaler\n",
    "stdScaler = StandardScaler()\n",
    "df_scaled = stdScaler.fit_transform(df)"
   ]
  },
  {
   "cell_type": "markdown",
   "metadata": {},
   "source": [
    "#### (a) Find the top two principal components from this dataset, and make a scatter plot with the first component as the x-axis and the second as the y-axis. You may find the sklearn PCA package to be useful."
   ]
  },
  {
   "cell_type": "code",
   "execution_count": 78,
   "metadata": {},
   "outputs": [],
   "source": [
    "from sklearn.decomposition import PCA\n",
    "pca = PCA(n_components=2)\n",
    "pca.fit(df_scaled)\n",
    "X_pca = pca.fit_transform(df_scaled)"
   ]
  },
  {
   "cell_type": "code",
   "execution_count": 79,
   "metadata": {},
   "outputs": [
    {
     "data": {
      "text/plain": [
       "Text(0,0.5,'principle component 2')"
      ]
     },
     "execution_count": 79,
     "metadata": {},
     "output_type": "execute_result"
    },
    {
     "data": {
      "image/png": "[encoded data removed]",
      "text/plain": [
       "<Figure size 432x288 with 1 Axes>"
      ]
     },
     "metadata": {},
     "output_type": "display_data"
    }
   ],
   "source": [
    "plt.scatter(x=X_pca[:,0], y=X_pca[:,1]) \n",
    "xlabel('principle component 1')\n",
    "ylabel('principle component 2')"
   ]
  },
  {
   "cell_type": "markdown",
   "metadata": {},
   "source": [
    "#### (b) Find the names of the six countries with the highest first component (these should be clear outliers)."
   ]
  },
  {
   "cell_type": "code",
   "execution_count": 80,
   "metadata": {},
   "outputs": [
    {
     "data": {
      "text/plain": [
       "Country\n",
       "China      78.808512\n",
       "Canada     65.904733\n",
       "Mexico     40.812633\n",
       "Japan      26.098581\n",
       "Germany    25.743293\n",
       "Italy      12.843229\n",
       "dtype: float64"
      ]
     },
     "execution_count": 80,
     "metadata": {},
     "output_type": "execute_result"
    }
   ],
   "source": [
    "pc_1 = pd.Series(X_pca[:,0], index = df.index)\n",
    "pc_1.sort_values(ascending=False)[:6]"
   ]
  },
  {
   "cell_type": "markdown",
   "metadata": {},
   "source": [
    "#### (c) Create i) a scree plot depicting the proportion of variance and ii) a cumulative proportion of variance explained by the principal components of the data (X matrix).  If you are using sklearn's PCA implementation, you may use the output attribute *explained variance ratio*."
   ]
  },
  {
   "cell_type": "code",
   "execution_count": 81,
   "metadata": {},
   "outputs": [
    {
     "data": {
      "text/plain": [
       "Text(0.5,1,'Cumulative Proportion of Variance per PC')"
      ]
     },
     "execution_count": 81,
     "metadata": {},
     "output_type": "execute_result"
    },
    {
     "data": {
      "image/png": "[encoded data removed]",
      "text/plain": [
       "<Figure size 1008x432 with 2 Axes>"
      ]
     },
     "metadata": {},
     "output_type": "display_data"
    }
   ],
   "source": [
    "pca_all = PCA()\n",
    "pca_all.fit(df_scaled)\n",
    "\n",
    "fig, (ax1, ax2) = subplots(nrows=1,ncols=2,figsize=(14,6))\n",
    "\n",
    "ax1.plot(pca_all.explained_variance_ratio_, marker = 'o', markerfacecolor='none') \n",
    "ax1.set_xlabel('Principal Component')\n",
    "ax1.set_ylabel('Proportion of Variance')\n",
    "ax1.set_title('Proportion of Variance per PC')\n",
    "\n",
    "ax2.plot(np.cumsum(pca_all.explained_variance_ratio_), marker = 'o', markerfacecolor='none')\n",
    "ax2.set_xlabel('Principal Component')\n",
    "ax2.set_ylabel('Cumulative Proportion of Variance')\n",
    "ax2.set_title('Cumulative Proportion of Variance per PC')"
   ]
  },
  {
   "cell_type": "markdown",
   "metadata": {},
   "source": [
    "#### (d) How many principal components are required to explain cumulative variance of 30%, 60%, and 90%, respectively?"
   ]
  },
  {
   "cell_type": "code",
   "execution_count": 82,
   "metadata": {},
   "outputs": [
    {
     "name": "stdout",
     "output_type": "stream",
     "text": [
      "1 principal component is required to explain cumulative variance of 30%\n",
      "2 principal components are required to explain cumulative variance of 60%\n",
      "13 principal components are required to explain cumulative variance of 90%\n"
     ]
    }
   ],
   "source": [
    "cum_exp = np.cumsum(pca_all.explained_variance_ratio_)\n",
    "\n",
    "pca_30 = np.where(cum_exp >= 0.3)[0][0]+1\n",
    "pca_60 = np.where(cum_exp >= 0.6)[0][0]+1\n",
    "pca_90 = np.where(cum_exp >= 0.9)[0][0]+1\n",
    "\n",
    "print '{} principal component is required to explain cumulative variance of 30%'.format(pca_30)\n",
    "print '{} principal components are required to explain cumulative variance of 60%'.format(pca_60)\n",
    "print '{} principal components are required to explain cumulative variance of 90%'.format(pca_90)"
   ]
  },
  {
   "cell_type": "markdown",
   "metadata": {},
   "source": [
    "# Question 5. PCA (conceptual) (10pts)"
   ]
  },
  {
   "cell_type": "markdown",
   "metadata": {},
   "source": [
    "#### (a) Give two reasons why we might want to use PCA."
   ]
  },
  {
   "cell_type": "markdown",
   "metadata": {},
   "source": [
    "1. PCA can help offset or reduce the affects of collinearity amongst features by performing regression in the transformed space (PCR) due to the orthogonal relationship between the PCs.\n",
    "2. Dimensionality Reduction or Feature Extraction: PCA will aggregate all the features together into individual principal components where all the features are represented together. We can drop the variables of least importance while still keeping parts of the information provided by said variables. This allows every feature to be represented in our statistical analysis while also allowing us to reduce the dimensions we need to work with. "
   ]
  },
  {
   "cell_type": "markdown",
   "metadata": {},
   "source": [
    "#### (b) If we approach PCA using eigenvalue decomposition on the covariance matrix, explain what the eigenvectors and eigenvalues represent."
   ]
  },
  {
   "cell_type": "markdown",
   "metadata": {},
   "source": [
    "The eigenvector and eigenvalue are decomposed from the covariance matrix, allowing for greater interpretability for each principal component. The eigenvector, or the principal component, acts as the direction the vector needs to point in the feature space in order to capture the highest amount of variability in the data, allowing itself to be stretched or squashed by the eigenvalue accordingly. Each eigenvalue represents the importance of its corresponding eigenvector and is used to gauge which principal component captures the most amount of variance and therefore information. In a sense, the eigenvalue is the magnitude of the eigenvector and it explains the variance of the data along its feature axes. Consequently, the smallest eigenvalues correspond to the direction with the least amount of variation, and the largest eigenvalues correspond to the direction with the most amount of variance."
   ]
  }
 ],
 "metadata": {
  "kernelspec": {
   "display_name": "Python 2",
   "language": "python",
   "name": "python2"
  },
  "language_info": {
   "codemirror_mode": {
    "name": "ipython",
    "version": 2
   },
   "file_extension": ".py",
   "mimetype": "text/x-python",
   "name": "python",
   "nbconvert_exporter": "python",
   "pygments_lexer": "ipython2",
   "version": "2.7.15"
  }
 },
 "nbformat": 4,
 "nbformat_minor": 1
}
