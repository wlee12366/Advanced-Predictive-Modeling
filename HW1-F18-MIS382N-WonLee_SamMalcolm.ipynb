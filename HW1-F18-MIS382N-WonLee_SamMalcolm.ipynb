{
 "cells": [
  {
   "cell_type": "markdown",
   "metadata": {},
   "source": [
    "\n",
    "# <p style=\"text-align: center;\">MIS 382N: ADVANCED PREDICTIVE MODELING - MSBA</p>\n",
    "# <p style=\"text-align: center;\">Assignment 1</p>\n",
    "# <p style=\"text-align: center;\">Won Lee, Sam Malcolm</p>\n",
    "## <p style=\"text-align: center;\">Total points: 80</p>\n",
    "## <p style=\"text-align: center;\">Due: Tuesday, September 18 submitted via Canvas by 11:59 pm</p>\n",
    "\n",
    "Your homework should be written in a **Jupyter notebook**. You may work in groups of two if you wish. Only one student per team needs to submit the assignment on Canvas.  But be sure to include name and UTEID for both students.  Homework groups will be created and managed through Canvas, so please do not arbitrarily change your homework group. If you do change, let the TA know.  \n",
    "\n",
    "Also, please make sure your code runs and the graphics (and anything else) are displayed in your notebook before submitting. (%matplotlib inline)"
   ]
  },
  {
   "cell_type": "markdown",
   "metadata": {},
   "source": [
    "# Question 1: Challenges in Data Science (10 pts)\n",
    "\n",
    "Refer to the Domino guide under Modules --> Additional Resources\n",
    "\n",
    "Section 2 describes 8 Challenges. You may have personally encountered or heard of somebody else who encountered some of these challenge. If so,  please write 1-2 paragraphs on what situation was encountered and how it mapped into one the mentioned challenges. If not, think of a hypothetical case and do the same exercise. \n",
    "\n",
    "\n",
    "## Answer\n",
    "\n",
    "\n"
   ]
  },
  {
   "cell_type": "markdown",
   "metadata": {},
   "source": [
    "While neither of us have experienced any of these directly, they did remind us of something that a former colleague of Sam's shared. He is now the Director of Analytics at a growing local business, and his story seemed to map onto the 8th challenge - \"Solve a few good problems, but not solving enough problems at once.\"\n",
    "\n",
    "When he first started at his company, he had a very small team. I believe it was just him and one other person. They had a very unsophisticated way of managing projects. People would submit requests, and it essentially turned into one long to-do list that they would work through in order. I got the impression that they were swamped.\n",
    "\n",
    "With many smaller organizations just beginning to embrace data science, it's easy to see how this could happen elsewhere. If you are successful in one data science project, you have the capacity to impress other coworkers, and your queue of project requests can rapidly grow.\n",
    "\n",
    "Eventually, they were able to grow their team out and improve their workflow in a very interesting way. They were able to hire some specialists - one person particulary good at predictive modeling, one person who was a great storyteller and \"salesman\", etc. In terms of process, they were able to standardize it and incorporate more machine learning and predictive methods that they had previously been unable to employ."
   ]
  },
  {
   "cell_type": "markdown",
   "metadata": {},
   "source": [
    "# Question 2: Maximum likelihood estimate (10 pts)\n",
    "\n",
    "Prove the statement on slide 3 of notes on MLR:\n",
    "\"Then minimizing Mean Squared Error (MSE) on the training data (which you can do using OLS) yields the Maximum Likelihood Estimate (MLE) solution of the assumed generative model.\"\n",
    "\n",
    "\n",
    "## Answer"
   ]
  },
  {
   "cell_type": "markdown",
   "metadata": {},
   "source": [
    "Note: We used RSS (SSE) since the 1/n from MSE gets dropped anyway. Minimizing MSE And SSE is similar, because deriving either will result in the same end. We decided to go with SSE for simplicity's sake."
   ]
  },
  {
   "cell_type": "markdown",
   "metadata": {},
   "source": [
    "<img src = \"https://imgur.com/9uiKzYh.png\">"
   ]
  },
  {
   "cell_type": "markdown",
   "metadata": {},
   "source": [
    "# Question 3: Collinearity Issues (5 pts)\n",
    "\n",
    "What is the “collinearity” issue encountered in MLR? Why is this a problem when you try to use MLR?\n",
    "Suggest one way of addressing this problem.\n",
    "\n",
    "\n",
    "## Answer"
   ]
  },
  {
   "cell_type": "markdown",
   "metadata": {},
   "source": [
    "The \"collinearity\" issue encountered in MLR is when two or more of your X variables are correlated. \n",
    "\n",
    "With MLR, we seek to relate the variation in Y to the variation in X (with all other X's fixed). If X's are correlated, it makes it difficult to distinguish the affect of each / any on changes in Y.\n",
    "\n",
    "This manifests itself in MLR through Coefficient Standard Errors. If there is high collinearity, it will inflate the standard errors for the intercept and coefficient. It's easy to find similar models to the OLS model. Hypothetically, with perfect collinearity, the confidence interval can be infinite.\n",
    "\n",
    "This is why it isn't always beneficial to focus exclusively on Mean Squared Error (or similar metrics) when evaluating MLR models. Adding an extra variable could decrease your MSE, but if correlated with other variables, could increase your uncertainty with the model.\n",
    "\n",
    "The simplest way to address this is by removing one of the correlated variables. A more nuanced way might be to use Principle Components Analysis to combine the affect of these variables into one weight."
   ]
  },
  {
   "cell_type": "markdown",
   "metadata": {},
   "source": [
    "# Question 4: Multiple Linear Regression in Python (20 pts)\n",
    "\n",
    "Use the following code to import the allstate-claims-severity dataset and linear models in python. The dataset is taken from https://www.kaggle.com/c/allstate-claims-severity I have removed the categorical variables to make it easier to run the models. Because of this, MAE (Mean absolute error) will be on higher end compared to other Kaggle entries. Please donwload the dataset \"reduced_train.csv\" and use it.\n",
    "\n"
   ]
  },
  {
   "cell_type": "code",
   "execution_count": 2,
   "metadata": {},
   "outputs": [],
   "source": [
    "from sklearn import linear_model\n",
    "from sklearn.metrics import mean_squared_error, mean_absolute_error\n",
    "import numpy as np\n",
    "import pandas as pd\n",
    "import warnings\n",
    "warnings.filterwarnings('ignore')\n",
    "\n",
    "train_df = pd.read_csv(\"reduced_train.csv\")\n",
    "\n",
    "X = train_df.drop(['id','loss'],axis=1)\n",
    "Y = train_df['loss']"
   ]
  },
  {
   "cell_type": "markdown",
   "metadata": {},
   "source": [
    "a. (2 pts) Print the shape (number of rows and columns) of the feature matrix X, and print the first 5 rows.\n",
    "\n",
    "b.  (6 pts) Using ordinary least squares, fit a multiple linear regression (MLR) on all the feature variables using the entire dataset. Report the regression coefficient of each input feature and evaluate the model using mean absolute error (MAE).  Example of ordinary least squares in Python is shown in Section 1.1.1 of http://scikit-learn.org/stable/modules/linear_model.html.\n",
    "\n",
    "c.  (6 pts) Split the data into a training set and a test set, using the train_test_split with test_size = 0.30 and random_state = 50. The code for this is given below. Fit an MLR using the training set.  Evaluate the trained model using the training set and the test set, respectively.  Compare the two MAE values thus obtained.\n",
    "\n",
    "d.  (6 pts) Plot the histogram of Y_train and see its distribution. Now take log of Y_train and plot its histogram. Now run regression again after taking log and compare the MAE. You need to do np.exp(predictions) to bring them back to original scale, and then calculate MAE. Explain the results."
   ]
  },
  {
   "cell_type": "markdown",
   "metadata": {},
   "source": [
    "## Answer"
   ]
  },
  {
   "cell_type": "markdown",
   "metadata": {},
   "source": [
    "### A."
   ]
  },
  {
   "cell_type": "code",
   "execution_count": 3,
   "metadata": {},
   "outputs": [
    {
     "data": {
      "text/plain": [
       "(188318, 14)"
      ]
     },
     "execution_count": 3,
     "metadata": {},
     "output_type": "execute_result"
    }
   ],
   "source": [
    "X.shape"
   ]
  },
  {
   "cell_type": "code",
   "execution_count": 4,
   "metadata": {},
   "outputs": [
    {
     "data": {
      "text/html": [
       "<div>\n",
       "<style scoped>\n",
       "    .dataframe tbody tr th:only-of-type {\n",
       "        vertical-align: middle;\n",
       "    }\n",
       "\n",
       "    .dataframe tbody tr th {\n",
       "        vertical-align: top;\n",
       "    }\n",
       "\n",
       "    .dataframe thead th {\n",
       "        text-align: right;\n",
       "    }\n",
       "</style>\n",
       "<table border=\"1\" class=\"dataframe\">\n",
       "  <thead>\n",
       "    <tr style=\"text-align: right;\">\n",
       "      <th></th>\n",
       "      <th>cont1</th>\n",
       "      <th>cont2</th>\n",
       "      <th>cont3</th>\n",
       "      <th>cont4</th>\n",
       "      <th>cont5</th>\n",
       "      <th>cont6</th>\n",
       "      <th>cont7</th>\n",
       "      <th>cont8</th>\n",
       "      <th>cont9</th>\n",
       "      <th>cont10</th>\n",
       "      <th>cont11</th>\n",
       "      <th>cont12</th>\n",
       "      <th>cont13</th>\n",
       "      <th>cont14</th>\n",
       "    </tr>\n",
       "  </thead>\n",
       "  <tbody>\n",
       "    <tr>\n",
       "      <th>0</th>\n",
       "      <td>0.726300</td>\n",
       "      <td>0.245921</td>\n",
       "      <td>0.187583</td>\n",
       "      <td>0.789639</td>\n",
       "      <td>0.310061</td>\n",
       "      <td>0.718367</td>\n",
       "      <td>0.335060</td>\n",
       "      <td>0.30260</td>\n",
       "      <td>0.67135</td>\n",
       "      <td>0.83510</td>\n",
       "      <td>0.569745</td>\n",
       "      <td>0.594646</td>\n",
       "      <td>0.822493</td>\n",
       "      <td>0.714843</td>\n",
       "    </tr>\n",
       "    <tr>\n",
       "      <th>1</th>\n",
       "      <td>0.330514</td>\n",
       "      <td>0.737068</td>\n",
       "      <td>0.592681</td>\n",
       "      <td>0.614134</td>\n",
       "      <td>0.885834</td>\n",
       "      <td>0.438917</td>\n",
       "      <td>0.436585</td>\n",
       "      <td>0.60087</td>\n",
       "      <td>0.35127</td>\n",
       "      <td>0.43919</td>\n",
       "      <td>0.338312</td>\n",
       "      <td>0.366307</td>\n",
       "      <td>0.611431</td>\n",
       "      <td>0.304496</td>\n",
       "    </tr>\n",
       "    <tr>\n",
       "      <th>2</th>\n",
       "      <td>0.261841</td>\n",
       "      <td>0.358319</td>\n",
       "      <td>0.484196</td>\n",
       "      <td>0.236924</td>\n",
       "      <td>0.397069</td>\n",
       "      <td>0.289648</td>\n",
       "      <td>0.315545</td>\n",
       "      <td>0.27320</td>\n",
       "      <td>0.26076</td>\n",
       "      <td>0.32446</td>\n",
       "      <td>0.381398</td>\n",
       "      <td>0.373424</td>\n",
       "      <td>0.195709</td>\n",
       "      <td>0.774425</td>\n",
       "    </tr>\n",
       "    <tr>\n",
       "      <th>3</th>\n",
       "      <td>0.321594</td>\n",
       "      <td>0.555782</td>\n",
       "      <td>0.527991</td>\n",
       "      <td>0.373816</td>\n",
       "      <td>0.422268</td>\n",
       "      <td>0.440945</td>\n",
       "      <td>0.391128</td>\n",
       "      <td>0.31796</td>\n",
       "      <td>0.32128</td>\n",
       "      <td>0.44467</td>\n",
       "      <td>0.327915</td>\n",
       "      <td>0.321570</td>\n",
       "      <td>0.605077</td>\n",
       "      <td>0.602642</td>\n",
       "    </tr>\n",
       "    <tr>\n",
       "      <th>4</th>\n",
       "      <td>0.273204</td>\n",
       "      <td>0.159990</td>\n",
       "      <td>0.527991</td>\n",
       "      <td>0.473202</td>\n",
       "      <td>0.704268</td>\n",
       "      <td>0.178193</td>\n",
       "      <td>0.247408</td>\n",
       "      <td>0.24564</td>\n",
       "      <td>0.22089</td>\n",
       "      <td>0.21230</td>\n",
       "      <td>0.204687</td>\n",
       "      <td>0.202213</td>\n",
       "      <td>0.246011</td>\n",
       "      <td>0.432606</td>\n",
       "    </tr>\n",
       "  </tbody>\n",
       "</table>\n",
       "</div>"
      ],
      "text/plain": [
       "      cont1     cont2     cont3     cont4     cont5     cont6     cont7  \\\n",
       "0  0.726300  0.245921  0.187583  0.789639  0.310061  0.718367  0.335060   \n",
       "1  0.330514  0.737068  0.592681  0.614134  0.885834  0.438917  0.436585   \n",
       "2  0.261841  0.358319  0.484196  0.236924  0.397069  0.289648  0.315545   \n",
       "3  0.321594  0.555782  0.527991  0.373816  0.422268  0.440945  0.391128   \n",
       "4  0.273204  0.159990  0.527991  0.473202  0.704268  0.178193  0.247408   \n",
       "\n",
       "     cont8    cont9   cont10    cont11    cont12    cont13    cont14  \n",
       "0  0.30260  0.67135  0.83510  0.569745  0.594646  0.822493  0.714843  \n",
       "1  0.60087  0.35127  0.43919  0.338312  0.366307  0.611431  0.304496  \n",
       "2  0.27320  0.26076  0.32446  0.381398  0.373424  0.195709  0.774425  \n",
       "3  0.31796  0.32128  0.44467  0.327915  0.321570  0.605077  0.602642  \n",
       "4  0.24564  0.22089  0.21230  0.204687  0.202213  0.246011  0.432606  "
      ]
     },
     "execution_count": 4,
     "metadata": {},
     "output_type": "execute_result"
    }
   ],
   "source": [
    "X[:5]"
   ]
  },
  {
   "cell_type": "markdown",
   "metadata": {},
   "source": [
    "### B."
   ]
  },
  {
   "cell_type": "code",
   "execution_count": 5,
   "metadata": {},
   "outputs": [
    {
     "data": {
      "text/html": [
       "<div>\n",
       "<style scoped>\n",
       "    .dataframe tbody tr th:only-of-type {\n",
       "        vertical-align: middle;\n",
       "    }\n",
       "\n",
       "    .dataframe tbody tr th {\n",
       "        vertical-align: top;\n",
       "    }\n",
       "\n",
       "    .dataframe thead th {\n",
       "        text-align: right;\n",
       "    }\n",
       "</style>\n",
       "<table border=\"1\" class=\"dataframe\">\n",
       "  <thead>\n",
       "    <tr style=\"text-align: right;\">\n",
       "      <th></th>\n",
       "      <th>0</th>\n",
       "    </tr>\n",
       "  </thead>\n",
       "  <tbody>\n",
       "    <tr>\n",
       "      <th>0</th>\n",
       "      <td>-2137.111212</td>\n",
       "    </tr>\n",
       "    <tr>\n",
       "      <th>1</th>\n",
       "      <td>1762.240616</td>\n",
       "    </tr>\n",
       "    <tr>\n",
       "      <th>2</th>\n",
       "      <td>-56.579685</td>\n",
       "    </tr>\n",
       "    <tr>\n",
       "      <th>3</th>\n",
       "      <td>-301.172981</td>\n",
       "    </tr>\n",
       "    <tr>\n",
       "      <th>4</th>\n",
       "      <td>30.032018</td>\n",
       "    </tr>\n",
       "    <tr>\n",
       "      <th>5</th>\n",
       "      <td>-557.225099</td>\n",
       "    </tr>\n",
       "    <tr>\n",
       "      <th>6</th>\n",
       "      <td>1707.955206</td>\n",
       "    </tr>\n",
       "    <tr>\n",
       "      <th>7</th>\n",
       "      <td>298.612406</td>\n",
       "    </tr>\n",
       "    <tr>\n",
       "      <th>8</th>\n",
       "      <td>2049.379104</td>\n",
       "    </tr>\n",
       "    <tr>\n",
       "      <th>9</th>\n",
       "      <td>-250.019861</td>\n",
       "    </tr>\n",
       "    <tr>\n",
       "      <th>10</th>\n",
       "      <td>-1732.348874</td>\n",
       "    </tr>\n",
       "    <tr>\n",
       "      <th>11</th>\n",
       "      <td>2724.389858</td>\n",
       "    </tr>\n",
       "    <tr>\n",
       "      <th>12</th>\n",
       "      <td>-631.301289</td>\n",
       "    </tr>\n",
       "    <tr>\n",
       "      <th>13</th>\n",
       "      <td>273.626005</td>\n",
       "    </tr>\n",
       "  </tbody>\n",
       "</table>\n",
       "</div>"
      ],
      "text/plain": [
       "              0\n",
       "0  -2137.111212\n",
       "1   1762.240616\n",
       "2    -56.579685\n",
       "3   -301.172981\n",
       "4     30.032018\n",
       "5   -557.225099\n",
       "6   1707.955206\n",
       "7    298.612406\n",
       "8   2049.379104\n",
       "9   -250.019861\n",
       "10 -1732.348874\n",
       "11  2724.389858\n",
       "12  -631.301289\n",
       "13   273.626005"
      ]
     },
     "execution_count": 5,
     "metadata": {},
     "output_type": "execute_result"
    }
   ],
   "source": [
    "# Create and fit model\n",
    "reg = linear_model.LinearRegression()\n",
    "model = reg.fit(X, Y)\n",
    "\n",
    "# Print coefficients\n",
    "pd.DataFrame(model.coef_)"
   ]
  },
  {
   "cell_type": "code",
   "execution_count": 6,
   "metadata": {},
   "outputs": [
    {
     "name": "stdout",
     "output_type": "stream",
     "text": [
      "The MAE is: 1950.3606265639835\n"
     ]
    }
   ],
   "source": [
    "pred = model.predict(X)\n",
    "\n",
    "print \"The MAE is: \" + str(mean_absolute_error(Y, pred))"
   ]
  },
  {
   "cell_type": "code",
   "execution_count": 7,
   "metadata": {},
   "outputs": [
    {
     "data": {
      "text/plain": [
       "count    188318.000000\n",
       "mean       3037.337686\n",
       "std        2904.086186\n",
       "min           0.670000\n",
       "25%        1204.460000\n",
       "50%        2115.570000\n",
       "75%        3864.045000\n",
       "max      121012.250000\n",
       "Name: loss, dtype: float64"
      ]
     },
     "execution_count": 7,
     "metadata": {},
     "output_type": "execute_result"
    }
   ],
   "source": [
    "Y.describe()"
   ]
  },
  {
   "cell_type": "markdown",
   "metadata": {},
   "source": [
    "### C."
   ]
  },
  {
   "cell_type": "code",
   "execution_count": 8,
   "metadata": {},
   "outputs": [],
   "source": [
    "from sklearn.model_selection import train_test_split\n",
    "\n",
    "X_train, X_test, Y_train, Y_test = train_test_split(X,Y,test_size = 0.30, random_state=50)"
   ]
  },
  {
   "cell_type": "code",
   "execution_count": 9,
   "metadata": {},
   "outputs": [
    {
     "name": "stdout",
     "output_type": "stream",
     "text": [
      "The Train MAE is: 1946.9866773014621\n",
      "The Test MAE is: 1954.111059596165\n"
     ]
    }
   ],
   "source": [
    "# Create and fit training model\n",
    "reg_train = linear_model.LinearRegression()\n",
    "model_train = reg_train.fit(X_train, Y_train)\n",
    "\n",
    "# Evaluate the training set\n",
    "pred_train = model_train.predict(X_train)\n",
    "\n",
    "print \"The Train MAE is: \" + str(mean_absolute_error(Y_train, pred_train))\n",
    "\n",
    "# Evaluate the test set\n",
    "pred_test = model_train.predict(X_test)\n",
    "\n",
    "print \"The Test MAE is: \" + str(mean_absolute_error(Y_test, pred_test))"
   ]
  },
  {
   "cell_type": "markdown",
   "metadata": {},
   "source": [
    "We observe a slightly higher MAE when predicting the Test data than the Train data. This makes sense. Since we fit the model to the training data, it should more closely match those data points. On the other hand, the test data are data points that we did not interact with or fit into our model, thus resulting in a higher MAE when we tested our model against it. Overall, though, they are quite similar."
   ]
  },
  {
   "cell_type": "markdown",
   "metadata": {},
   "source": [
    "### D."
   ]
  },
  {
   "cell_type": "code",
   "execution_count": 10,
   "metadata": {},
   "outputs": [
    {
     "data": {
      "text/plain": [
       "(array([1.29622e+05, 2.07200e+03, 1.05000e+02, 1.20000e+01, 6.00000e+00,\n",
       "        1.00000e+00, 1.00000e+00, 1.00000e+00, 1.00000e+00, 1.00000e+00]),\n",
       " array([6.70000000e-01, 1.21018280e+04, 2.42029860e+04, 3.63041440e+04,\n",
       "        4.84053020e+04, 6.05064600e+04, 7.26076180e+04, 8.47087760e+04,\n",
       "        9.68099340e+04, 1.08911092e+05, 1.21012250e+05]),\n",
       " <a list of 10 Patch objects>)"
      ]
     },
     "execution_count": 10,
     "metadata": {},
     "output_type": "execute_result"
    },
    {
     "data": {
      "image/png": "[encoded data removed]",
      "text/plain": [
       "<Figure size 432x288 with 1 Axes>"
      ]
     },
     "metadata": {},
     "output_type": "display_data"
    }
   ],
   "source": [
    "import matplotlib.pyplot as plt\n",
    "%matplotlib inline\n",
    "\n",
    "# Histogram of Y_train\n",
    "plt.hist(Y_train)"
   ]
  },
  {
   "cell_type": "code",
   "execution_count": 11,
   "metadata": {},
   "outputs": [
    {
     "data": {
      "text/plain": [
       "(array([1.0000e+00, 1.0000e+00, 3.0000e+00, 2.7000e+01, 3.8200e+02,\n",
       "        2.1235e+04, 6.8083e+04, 3.8823e+04, 3.2420e+03, 2.5000e+01]),\n",
       " array([-0.40047757,  0.8099349 ,  2.02034736,  3.23075982,  4.44117228,\n",
       "         5.65158475,  6.86199721,  8.07240967,  9.28282213, 10.4932346 ,\n",
       "        11.70364706]),\n",
       " <a list of 10 Patch objects>)"
      ]
     },
     "execution_count": 11,
     "metadata": {},
     "output_type": "execute_result"
    },
    {
     "data": {
      "image/png": "[encoded data removed]",
      "text/plain": [
       "<Figure size 432x288 with 1 Axes>"
      ]
     },
     "metadata": {},
     "output_type": "display_data"
    }
   ],
   "source": [
    "# Log transform Y_train, plot histogram\n",
    "Y_train_log = np.log(Y_train)\n",
    "plt.hist(Y_train_log)"
   ]
  },
  {
   "cell_type": "code",
   "execution_count": 12,
   "metadata": {},
   "outputs": [
    {
     "name": "stdout",
     "output_type": "stream",
     "text": [
      "The new Train MAE is: 1797.4369165421042\n",
      "The new Test MAE is: 1810.6519682594767\n"
     ]
    }
   ],
   "source": [
    "# Log transform Y_test\n",
    "Y_test_log = np.log(Y_test)\n",
    "\n",
    "# Create and fit training model\n",
    "reg_train2 = linear_model.LinearRegression()\n",
    "model_train2 = reg_train2.fit(X_train, Y_train_log)\n",
    "\n",
    "# Evaluate the training set, bring back to unit scale\n",
    "pred_train2 = model_train2.predict(X_train)\n",
    "pred_train_scale = np.exp(pred_train2)\n",
    "\n",
    "print \"The new Train MAE is: \" + str(mean_absolute_error(Y_train, pred_train_scale))\n",
    "\n",
    "# Evaluate the test set, bring back to unit scale\n",
    "pred_test2 = model_train2.predict(X_test)\n",
    "pred_test_scale = np.exp(pred_test2)\n",
    "\n",
    "print \"The new Test MAE is: \" + str(mean_absolute_error(Y_test, pred_test_scale))"
   ]
  },
  {
   "cell_type": "code",
   "execution_count": 13,
   "metadata": {},
   "outputs": [
    {
     "data": {
      "text/plain": [
       "count    131822.000000\n",
       "mean       3032.154402\n",
       "std        2915.817731\n",
       "min           0.670000\n",
       "25%        1204.510000\n",
       "50%        2110.045000\n",
       "75%        3859.160000\n",
       "max      121012.250000\n",
       "Name: loss, dtype: float64"
      ]
     },
     "execution_count": 13,
     "metadata": {},
     "output_type": "execute_result"
    }
   ],
   "source": [
    "Y_train.describe()"
   ]
  },
  {
   "cell_type": "markdown",
   "metadata": {},
   "source": [
    "Previously, outliers were significantly affecting the model. You can observe this by the right-skewed distribution of Y_train values in our first plot. At least one value is greater than 120,000 despite most (75%) of the observations being less than 4,000. \n",
    "\n",
    "Fitting the model against log-normalized values helps to reduce the affect of outliers resulted in much lower MAE values in both train and test data, indicating that this new model does a better job of predicting the output. "
   ]
  },
  {
   "cell_type": "markdown",
   "metadata": {},
   "source": [
    "# Question 5: Ridge and Lasso Regression (25 points)\n"
   ]
  },
  {
   "cell_type": "markdown",
   "metadata": {},
   "source": [
    "Using the same data from before, in this question you will explore the application of Lasso and Ridge regression using sklearn package in Python. Split the data into a training set and a test set, using the train_test_split with test_size = 0.30 and random_state = 50. Take log of the Y_train and use it for training."
   ]
  },
  {
   "cell_type": "markdown",
   "metadata": {},
   "source": [
    "1) Use sklearn.linear_model.Lasso and sklearn.linear_model.Ridge classes to do a [5-fold cross validation](http://scikit-learn.org/stable/auto_examples/exercises/plot_cv_diabetes.html#example-exercises-plot-cv-diabetes-py) using sklearn's [KFold](http://scikit-learn.org/stable/modules/generated/sklearn.cross_validation.KFold.html). For the sweep of the regularization parameter, we will look at a grid of values ranging from $\\lambda = 10^{10}$ to $\\lambda = 10^{-6}$. In Python, you can consider this range of values as follows:\n",
    "\n",
    "      import numpy as np\n",
    "\n",
    "      alphas =  10**np.linspace(10,-6,100)*0.5\n",
    "\n",
    "  Report the best chosen $\\lambda$ based on cross validation. The cross validation should happen on your training data using  average MAE as the scoring metric. (8pts)\n",
    "\n",
    "2) Run ridge and lasso for all of the alphas specified above (on training data), and plot the coefficients learned for each of them - there should be one plot each for lasso and ridge, so a total of two plots; the plots for different features for a method should be on the same plot. What do you qualitatively observe when value of the regularization parameter is changed? (7pts)\n",
    "\n",
    "3) Run least squares regression, ridge, and lasso on the training data. For ridge and lasso, use only the best regularization parameter. Report the prediction error (MAE) on the test data for each. (5pts)\n",
    "\n",
    "4) Run lasso again with cross validation using [sklearn.linear_model.LassoCV](http://scikit-learn.org/stable/modules/generated/sklearn.linear_model.LassoCV.html). Set the cross validation parameters as follows:\n",
    "\n",
    "    LassoCV(alphas=None, cv=10, max_iter=10000)\n",
    "\n",
    "Report the best $\\lambda$ based on cross validation. Run lasso on the training data using the best $\\lambda$ and report the coefficeints for all variables. (5pts)"
   ]
  },
  {
   "cell_type": "markdown",
   "metadata": {},
   "source": [
    "## Answer"
   ]
  },
  {
   "cell_type": "markdown",
   "metadata": {},
   "source": [
    "### 1."
   ]
  },
  {
   "cell_type": "markdown",
   "metadata": {},
   "source": [
    "##### Lasso"
   ]
  },
  {
   "cell_type": "code",
   "execution_count": 14,
   "metadata": {},
   "outputs": [],
   "source": [
    "from sklearn.linear_model import LassoCV\n",
    "from sklearn.linear_model import Lasso\n",
    "from sklearn.model_selection import KFold\n",
    "from sklearn.model_selection import GridSearchCV\n",
    "\n",
    "lasso = Lasso(random_state=50)\n",
    "alphas =  10**np.linspace(10,-6,100)*0.5\n",
    "\n",
    "tuned_parameters = [{'alpha': alphas}]\n",
    "n_folds = 5\n",
    "\n",
    "clf = GridSearchCV(lasso, tuned_parameters, cv=n_folds, scoring = 'neg_mean_absolute_error')\n",
    "clf.fit(X_train, Y_train_log)\n",
    "scores = clf.cv_results_['mean_test_score']\n",
    "scores_std = clf.cv_results_['std_test_score']"
   ]
  },
  {
   "cell_type": "code",
   "execution_count": 15,
   "metadata": {},
   "outputs": [
    {
     "data": {
      "text/plain": [
       "(5000000000.0, 5e-07)"
      ]
     },
     "execution_count": 15,
     "metadata": {},
     "output_type": "execute_result"
    },
    {
     "data": {
      "image/png": "[encoded data removed]",
      "text/plain": [
       "<Figure size 576x432 with 1 Axes>"
      ]
     },
     "metadata": {},
     "output_type": "display_data"
    }
   ],
   "source": [
    "# Plotting results\n",
    "plt.figure().set_size_inches(8, 6)\n",
    "plt.semilogx(alphas, scores)\n",
    "std_error = scores_std / np.sqrt(n_folds)\n",
    "\n",
    "plt.semilogx(alphas, scores + std_error, 'b--')\n",
    "plt.semilogx(alphas, scores - std_error, 'b--')\n",
    "plt.fill_between(alphas, scores + std_error, scores - std_error, alpha=0.2)\n",
    "\n",
    "plt.title('Lasso')\n",
    "plt.ylabel('CV score +/- std error')\n",
    "plt.xlabel('alpha')\n",
    "plt.axhline(np.max(scores), linestyle='--', color='.5')\n",
    "plt.xlim([alphas[0], alphas[-1]])"
   ]
  },
  {
   "cell_type": "code",
   "execution_count": 16,
   "metadata": {
    "scrolled": true
   },
   "outputs": [
    {
     "name": "stdout",
     "output_type": "stream",
     "text": [
      "Best lambda:  {'alpha': 6.309284415330092e-05}\n"
     ]
    }
   ],
   "source": [
    "print \"Best lambda: \", clf.best_params_"
   ]
  },
  {
   "cell_type": "markdown",
   "metadata": {},
   "source": [
    "##### Ridge"
   ]
  },
  {
   "cell_type": "code",
   "execution_count": 17,
   "metadata": {},
   "outputs": [],
   "source": [
    "from sklearn.linear_model import RidgeCV\n",
    "from sklearn.linear_model import Ridge\n",
    "\n",
    "ridge = Ridge(random_state=50)\n",
    "alphas =  10**np.linspace(10,-6,100)*0.5\n",
    "\n",
    "tuned_parameters = [{'alpha': alphas}]\n",
    "n_folds = 5\n",
    "\n",
    "crf = GridSearchCV(ridge, tuned_parameters, cv=n_folds, scoring = 'neg_mean_absolute_error')\n",
    "crf.fit(X_train, Y_train_log)\n",
    "scores = crf.cv_results_['mean_test_score']\n",
    "scores_std = crf.cv_results_['std_test_score']"
   ]
  },
  {
   "cell_type": "code",
   "execution_count": 18,
   "metadata": {},
   "outputs": [
    {
     "data": {
      "text/plain": [
       "(5000000000.0, 5e-07)"
      ]
     },
     "execution_count": 18,
     "metadata": {},
     "output_type": "execute_result"
    },
    {
     "data": {
      "image/png": "[encoded data removed]",
      "text/plain": [
       "<Figure size 576x432 with 1 Axes>"
      ]
     },
     "metadata": {},
     "output_type": "display_data"
    }
   ],
   "source": [
    "# Plotting results\n",
    "plt.figure().set_size_inches(8, 6)\n",
    "plt.semilogx(alphas, scores)\n",
    "std_error = scores_std / np.sqrt(n_folds)\n",
    "\n",
    "plt.semilogx(alphas, scores + std_error, 'b--')\n",
    "plt.semilogx(alphas, scores - std_error, 'b--')\n",
    "plt.fill_between(alphas, scores + std_error, scores - std_error, alpha=0.2)\n",
    "\n",
    "plt.title('Ridge')\n",
    "plt.ylabel('CV score +/- std error')\n",
    "plt.xlabel('alpha')\n",
    "plt.axhline(np.max(scores), linestyle='--', color='.5')\n",
    "plt.xlim([alphas[0], alphas[-1]])"
   ]
  },
  {
   "cell_type": "code",
   "execution_count": 19,
   "metadata": {},
   "outputs": [
    {
     "name": "stdout",
     "output_type": "stream",
     "text": [
      "Best alpha:  {'alpha': 13.5929412136647}\n"
     ]
    }
   ],
   "source": [
    "print \"Best alpha: \", crf.best_params_"
   ]
  },
  {
   "cell_type": "markdown",
   "metadata": {},
   "source": [
    "### 2."
   ]
  },
  {
   "cell_type": "code",
   "execution_count": 20,
   "metadata": {},
   "outputs": [],
   "source": [
    "# Run Lasso\n",
    "coefs_lasso = []\n",
    "for a in alphas:\n",
    "    lasso = linear_model.Lasso(alpha=a)\n",
    "    lasso.fit(X_train, Y_train_log)\n",
    "    coefs_lasso.append(lasso.coef_)"
   ]
  },
  {
   "cell_type": "code",
   "execution_count": 21,
   "metadata": {},
   "outputs": [
    {
     "data": {
      "text/plain": [
       "Text(0.5,1,'Lasso coefficients as a function of the regularization')"
      ]
     },
     "execution_count": 21,
     "metadata": {},
     "output_type": "execute_result"
    },
    {
     "data": {
      "image/png": "[encoded data removed]",
      "text/plain": [
       "<Figure size 432x288 with 1 Axes>"
      ]
     },
     "metadata": {},
     "output_type": "display_data"
    }
   ],
   "source": [
    "# Plot lasso\n",
    "ax = plt.gca()\n",
    "    \n",
    "ax.plot(alphas, coefs_lasso)\n",
    "ax.set_xscale('log')\n",
    "ax.set_xlim(ax.get_xlim()[::-1]) # Reverse axis\n",
    "ax.set_xlabel('Alpha')\n",
    "ax.set_ylabel('Weights')\n",
    "ax.set_title('Lasso coefficients as a function of the regularization')"
   ]
  },
  {
   "cell_type": "code",
   "execution_count": 22,
   "metadata": {},
   "outputs": [],
   "source": [
    "# Run Ridge\n",
    "coefs_ridge = []\n",
    "for a in alphas:\n",
    "    ridge = linear_model.Ridge(alpha=a)\n",
    "    ridge.fit(X_train, Y_train_log)\n",
    "    coefs_ridge.append(ridge.coef_)"
   ]
  },
  {
   "cell_type": "code",
   "execution_count": 23,
   "metadata": {},
   "outputs": [
    {
     "data": {
      "text/plain": [
       "Text(0.5,1,'Ridge coefficients as a function of the regularization')"
      ]
     },
     "execution_count": 23,
     "metadata": {},
     "output_type": "execute_result"
    },
    {
     "data": {
      "image/png": "[encoded data removed]",
      "text/plain": [
       "<Figure size 432x288 with 1 Axes>"
      ]
     },
     "metadata": {},
     "output_type": "display_data"
    }
   ],
   "source": [
    "# Plot Ridge\n",
    "ax = plt.gca()    \n",
    "    \n",
    "ax.plot(alphas, coefs_ridge)\n",
    "ax.set_xscale('log')\n",
    "ax.set_xlim(ax.get_xlim()[::-1]) # Reverse axis\n",
    "ax.set_xlabel('Alpha')\n",
    "ax.set_ylabel('Weights')\n",
    "ax.set_title('Ridge coefficients as a function of the regularization')"
   ]
  },
  {
   "cell_type": "markdown",
   "metadata": {},
   "source": [
    "As the value of the regularization parameter decreases, the weights of the factors increase. Conversely, as the regularization parameter increases, the weights of the factors decrease. This is why it is described as a \"penalty\" factor. By increasing the parameter, you decrease the contribution of certain factor weights. With Ridge, some of these weights can get very close to 0. With Lasso, some of these weights can equal zero, cancelling the contribution of a factor out completely."
   ]
  },
  {
   "cell_type": "markdown",
   "metadata": {},
   "source": [
    "### 3."
   ]
  },
  {
   "cell_type": "markdown",
   "metadata": {},
   "source": [
    "##### 1. Least Squares Regression"
   ]
  },
  {
   "cell_type": "code",
   "execution_count": 24,
   "metadata": {},
   "outputs": [
    {
     "name": "stdout",
     "output_type": "stream",
     "text": [
      "Least Squares Regression MAE: 1810.6519682594767\n"
     ]
    }
   ],
   "source": [
    "# Create and fit training model\n",
    "reg_train2 = linear_model.LinearRegression()\n",
    "model_train2 = reg_train2.fit(X_train, Y_train_log)\n",
    "\n",
    "# Evaluate the test set, bring back to unit scale\n",
    "pred_test2 = model_train2.predict(X_test)\n",
    "pred_test_scale = np.exp(pred_test2)\n",
    "\n",
    "print \"Least Squares Regression MAE: \" + str(mean_absolute_error(Y_test, pred_test_scale))"
   ]
  },
  {
   "cell_type": "markdown",
   "metadata": {},
   "source": [
    "##### 2. Lasso"
   ]
  },
  {
   "cell_type": "code",
   "execution_count": 25,
   "metadata": {},
   "outputs": [
    {
     "name": "stdout",
     "output_type": "stream",
     "text": [
      "Lasso MAE: 1810.6424216634994\n"
     ]
    }
   ],
   "source": [
    "# Create and fit training model\n",
    "lasso_alpha = clf.fit(X_train, Y_train_log).best_estimator_.alpha\n",
    "lasso = linear_model.Lasso(random_state = 50, alpha = lasso_alpha)\n",
    "lasso_fit = lasso.fit(X_train, Y_train_log)\n",
    "\n",
    "# Evaluate the test set, bring back to unit scale\n",
    "lasso_pred = lasso_fit.predict(X_test)\n",
    "lasso_pred_scale = np.exp(lasso_pred)\n",
    "\n",
    "print \"Lasso MAE: \" + str(mean_absolute_error(Y_test, lasso_pred_scale))"
   ]
  },
  {
   "cell_type": "markdown",
   "metadata": {},
   "source": [
    "##### 3. Ridge"
   ]
  },
  {
   "cell_type": "code",
   "execution_count": 26,
   "metadata": {},
   "outputs": [
    {
     "name": "stdout",
     "output_type": "stream",
     "text": [
      "Ridge MAE: 1810.6424216634994\n"
     ]
    }
   ],
   "source": [
    "# Create and fit training model\n",
    "ridge_alpha = crf.fit(X_train, Y_train_log).best_estimator_.alpha\n",
    "ridge = Ridge(random_state = 50, alpha = ridge_alpha)\n",
    "ridge_fit = lasso.fit(X_train, Y_train_log)\n",
    "\n",
    "# Evaluate the test set, bring back to unit scale\n",
    "ridge_pred = ridge_fit.predict(X_test)\n",
    "ridge_pred_scale = np.exp(ridge_pred)\n",
    "\n",
    "print \"Ridge MAE: \" + str(mean_absolute_error(Y_test, ridge_pred_scale))"
   ]
  },
  {
   "cell_type": "markdown",
   "metadata": {},
   "source": [
    "### 4."
   ]
  },
  {
   "cell_type": "code",
   "execution_count": 27,
   "metadata": {},
   "outputs": [
    {
     "name": "stdout",
     "output_type": "stream",
     "text": [
      "The best lambda value is: 1.742378003185893e-05\n",
      "\n",
      "\n",
      "Lasso coefficients: \n"
     ]
    },
    {
     "data": {
      "text/html": [
       "<div>\n",
       "<style scoped>\n",
       "    .dataframe tbody tr th:only-of-type {\n",
       "        vertical-align: middle;\n",
       "    }\n",
       "\n",
       "    .dataframe tbody tr th {\n",
       "        vertical-align: top;\n",
       "    }\n",
       "\n",
       "    .dataframe thead th {\n",
       "        text-align: right;\n",
       "    }\n",
       "</style>\n",
       "<table border=\"1\" class=\"dataframe\">\n",
       "  <thead>\n",
       "    <tr style=\"text-align: right;\">\n",
       "      <th></th>\n",
       "      <th>0</th>\n",
       "    </tr>\n",
       "  </thead>\n",
       "  <tbody>\n",
       "    <tr>\n",
       "      <th>0</th>\n",
       "      <td>-0.517112</td>\n",
       "    </tr>\n",
       "    <tr>\n",
       "      <th>1</th>\n",
       "      <td>0.356932</td>\n",
       "    </tr>\n",
       "    <tr>\n",
       "      <th>2</th>\n",
       "      <td>0.012615</td>\n",
       "    </tr>\n",
       "    <tr>\n",
       "      <th>3</th>\n",
       "      <td>-0.080685</td>\n",
       "    </tr>\n",
       "    <tr>\n",
       "      <th>4</th>\n",
       "      <td>-0.009504</td>\n",
       "    </tr>\n",
       "    <tr>\n",
       "      <th>5</th>\n",
       "      <td>-0.068813</td>\n",
       "    </tr>\n",
       "    <tr>\n",
       "      <th>6</th>\n",
       "      <td>0.306097</td>\n",
       "    </tr>\n",
       "    <tr>\n",
       "      <th>7</th>\n",
       "      <td>0.088403</td>\n",
       "    </tr>\n",
       "    <tr>\n",
       "      <th>8</th>\n",
       "      <td>0.572165</td>\n",
       "    </tr>\n",
       "    <tr>\n",
       "      <th>9</th>\n",
       "      <td>-0.168691</td>\n",
       "    </tr>\n",
       "    <tr>\n",
       "      <th>10</th>\n",
       "      <td>-0.353482</td>\n",
       "    </tr>\n",
       "    <tr>\n",
       "      <th>11</th>\n",
       "      <td>0.554205</td>\n",
       "    </tr>\n",
       "    <tr>\n",
       "      <th>12</th>\n",
       "      <td>-0.099519</td>\n",
       "    </tr>\n",
       "    <tr>\n",
       "      <th>13</th>\n",
       "      <td>0.094364</td>\n",
       "    </tr>\n",
       "  </tbody>\n",
       "</table>\n",
       "</div>"
      ],
      "text/plain": [
       "           0\n",
       "0  -0.517112\n",
       "1   0.356932\n",
       "2   0.012615\n",
       "3  -0.080685\n",
       "4  -0.009504\n",
       "5  -0.068813\n",
       "6   0.306097\n",
       "7   0.088403\n",
       "8   0.572165\n",
       "9  -0.168691\n",
       "10 -0.353482\n",
       "11  0.554205\n",
       "12 -0.099519\n",
       "13  0.094364"
      ]
     },
     "execution_count": 27,
     "metadata": {},
     "output_type": "execute_result"
    }
   ],
   "source": [
    "clf2 = linear_model.LassoCV(alphas=None, cv=10, max_iter=10000)\n",
    "clf2.fit(X_train, Y_train_log)\n",
    "lasso_alpha = clf2.alpha_\n",
    "print \"The best lambda value is: \" + str(lasso_alpha)\n",
    "print \"\\n\"\n",
    "lasso2 = Lasso(random_state = 50, alpha = lasso_alpha)\n",
    "lasso2_fit = lasso2.fit(X_train, Y_train_log)\n",
    "print \"Lasso coefficients: \" \n",
    "pd.DataFrame(lasso2_fit.coef_)"
   ]
  },
  {
   "cell_type": "code",
   "execution_count": 28,
   "metadata": {},
   "outputs": [
    {
     "name": "stdout",
     "output_type": "stream",
     "text": [
      "Lasso MAE: 1810.6363540763562\n"
     ]
    }
   ],
   "source": [
    "lasso_pred2 = clf2.predict(X_test)\n",
    "lasso_pred_scale2 = np.exp(lasso_pred2)\n",
    "\n",
    "print \"Lasso MAE: \" + str(mean_absolute_error(Y_test, lasso_pred_scale2))"
   ]
  },
  {
   "cell_type": "markdown",
   "metadata": {},
   "source": [
    "# Question 6 (10pts)\n",
    "\n",
    "Please solve problem \\#3.3 on page 174 in Bishop (Chapter 3). The problem has been uploaded to Canvas under 'Files': **CH3 problems from Bishop PRML.pdf**.\n",
    "\n",
    "## Answer"
   ]
  },
  {
   "cell_type": "markdown",
   "metadata": {},
   "source": [
    "<img src = \"https://imgur.com/WSa8UTf.png\">"
   ]
  },
  {
   "cell_type": "markdown",
   "metadata": {},
   "source": [
    "#### A. Data-dependent Noise Variance"
   ]
  },
  {
   "cell_type": "markdown",
   "metadata": {},
   "source": [
    "If we assume that the residual has a proportional relationship with the noise where a reduction in noise results in a lower residual, we can assume that a faulty measurement device or a possible computational error in the model can result in the presence of a rn weighing factor in the sum of squared errors function. These errors will cause the noise in the data to be amplified, thereby increasing variance. As a result, the residual will increase by an amount reflected by the increased noise which will then reflect a representative amount in the sum of square error function. Accordingly, the sum of square error function will incorporate the weighing factor to represent the artificial rise in error caused by the increase in noise, until an adjustment is made either to the model or measurement device. Alternatively, we can assume that the regression is pulled towards the noise due to the presence of “noise clusters”. When compared to a noise-less data, points will show weight associated with their distance from the noise, causing the weight to become a function of distance from noise clusters and not just of variance."
   ]
  },
  {
   "cell_type": "markdown",
   "metadata": {},
   "source": [
    "#### B. Replicated Data Points"
   ]
  },
  {
   "cell_type": "markdown",
   "metadata": {},
   "source": [
    "If we assume that some number of the data points are replicated twice in our data through human error, the resulting regression will overweigh the replicated data points, resulting in overfitting that skews the model to be biased or anchored around these particular points. The accumulation of errors resulting from the overweighed data points will cause the sum of square errors to increase. Consequently, the sum of square error function will incorporate the rn weighing factor into its equation to represent the artificial increase in error, however, it can be dropped if we eliminate the duplicates from the dataset."
   ]
  },
  {
   "cell_type": "code",
   "execution_count": null,
   "metadata": {},
   "outputs": [],
   "source": []
  }
 ],
 "metadata": {
  "anaconda-cloud": {},
  "kernelspec": {
   "display_name": "Python 2",
   "language": "python",
   "name": "python2"
  },
  "language_info": {
   "codemirror_mode": {
    "name": "ipython",
    "version": 2
   },
   "file_extension": ".py",
   "mimetype": "text/x-python",
   "name": "python",
   "nbconvert_exporter": "python",
   "pygments_lexer": "ipython2",
   "version": "2.7.15"
  }
 },
 "nbformat": 4,
 "nbformat_minor": 1
}
